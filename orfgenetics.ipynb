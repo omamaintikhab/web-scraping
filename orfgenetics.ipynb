{
 "cells": [
  {
   "cell_type": "code",
   "execution_count": 1,
   "metadata": {},
   "outputs": [],
   "source": [
    "from bs4 import BeautifulSoup\n",
    "import requests\n",
    "import pandas as pd\n",
    "import time"
   ]
  },
  {
   "cell_type": "code",
   "execution_count": 126,
   "metadata": {},
   "outputs": [],
   "source": [
    "url=\"https://orfgenetics.com/products/ifn-gamma-human-recombinant\"\n",
    "url2=\"https://orfgenetics.com/products/fgf-basic\"\n",
    "url3=\"https://orfgenetics.com/products/tnf-alpha-human-recombinant\"\n",
    "source=requests.get(url).text\n",
    "soup=BeautifulSoup(source,'lxml')\n"
   ]
  },
  {
   "cell_type": "code",
   "execution_count": 128,
   "metadata": {},
   "outputs": [],
   "source": [
    "def try_desc(soup):\n",
    "    data={}\n",
    "\n",
    "    desc=soup.find('div',{\"class\":\"product-description rte\"})\n",
    "    desc=str(desc)\n",
    "    desc=desc.replace('<div class=\"product-description rte\" itemprop=\"description\">',\"\")\n",
    "    if \"</div>\" in desc:\n",
    "        desc=desc.replace(\"</div>\",'')\n",
    "    desc=desc.replace(\"<p>\",'')\n",
    "    desc=desc.replace(\"</p>\",'')\n",
    "    desc=desc.replace(\"<br/>\",'')\n",
    "    desc=desc.split(\"<h6>\")\n",
    "    for d in desc:\n",
    "        d=d.split(\"</h6>\")\n",
    "        if len(d)>1:\n",
    "            ding=d[0]\n",
    "            ding=ding.lower()\n",
    "            ding=ding.split()\n",
    "            ding=' '.join(ding)\n",
    "            data.update({ding:' '.join(d[1:])})\n",
    "\n",
    "    return data        "
   ]
  },
  {
   "cell_type": "code",
   "execution_count": 42,
   "metadata": {},
   "outputs": [],
   "source": [
    "def size(soup):\n",
    "    final=[]\n",
    "\n",
    "    form=soup.findAll('form')\n",
    "    form=soup.findAll('option')\n",
    "    for f in form:\n",
    "        temp={}\n",
    "\n",
    "        f=f.text.split(\"-\")\n",
    "        temp.update({\"Size\":f[0],\"Price\":''.join(f[1])})\n",
    "        final.append(temp)\n",
    "    return final        "
   ]
  },
  {
   "cell_type": "code",
   "execution_count": 92,
   "metadata": {},
   "outputs": [],
   "source": [
    "def pro_desc(soup):\n",
    "    data={}\n",
    "    desc=soup.find('div',{\"class\":\"product-description rte\"})\n",
    "    head=desc.findAll('h6')\n",
    "    len(head)\n",
    "    para=desc.findAll('p')\n",
    "    len(para)\n",
    "    header=[]\n",
    "    for i in head:\n",
    "        if i.text !='':\n",
    "            ding=i.text\n",
    "            ding=ding.lower()\n",
    "            ding=ding.split()\n",
    "            ding=' '.join(ding)\n",
    "\n",
    "            header.append(ding)\n",
    "    len(header)        \n",
    "    #desc=desc.replace(\"<p>\",'')\n",
    "    #desc=desc.replace(\"</p>\",'')\n",
    "    #desc=desc.replace(\"</div>\",'')\n",
    "    #desc=desc.replace(\"</h6>\",'')\n",
    "    #desc=desc.split(\"<h6>\")\n",
    "    #desc\n",
    "    #para\n",
    "    for i in range(len(header)):\n",
    "        data.update({header[i]:para[i].text})\n",
    "    return data    \n",
    "    "
   ]
  },
  {
   "cell_type": "code",
   "execution_count": 35,
   "metadata": {},
   "outputs": [
    {
     "data": {
      "text/plain": [
       "'LIF, mouse, recombinant'"
      ]
     },
     "execution_count": 35,
     "metadata": {},
     "output_type": "execute_result"
    }
   ],
   "source": [
    "title=soup.find('h1',{\"itemprop\":\"name\"}).text"
   ]
  },
  {
   "cell_type": "code",
   "execution_count": 36,
   "metadata": {},
   "outputs": [],
   "source": [
    "url=\"https://orfgenetics.com/collections/isokine\"\n",
    "source=requests.get(url).text\n",
    "soup=BeautifulSoup(source,'lxml')\n"
   ]
  },
  {
   "cell_type": "code",
   "execution_count": 40,
   "metadata": {},
   "outputs": [],
   "source": [
    "rec_urls=[]\n",
    "table=soup.find('table',{\"class\":'table'})\n",
    "table=table.findAll('a')\n",
    "for tab in table:\n",
    "    tab=\"https://orfgenetics.com\"+tab['href']\n",
    "    rec_urls.append(tab)"
   ]
  },
  {
   "cell_type": "code",
   "execution_count": 129,
   "metadata": {},
   "outputs": [
    {
     "name": "stdout",
     "output_type": "stream",
     "text": [
      "https://orfgenetics.com/products/fgf-basic\n",
      "process no 0 completed\n",
      "process no 0 completed\n",
      "process no 0 completed\n",
      "https://orfgenetics.com/products/lif-mouse-recombinant\n",
      "process no 1 completed\n",
      "process no 1 completed\n",
      "process no 1 completed\n",
      "https://orfgenetics.com/products/kgf-human-recombinan\n",
      "process no 2 completed\n",
      "process no 2 completed\n",
      "process no 2 completed\n",
      "process no 2 completed\n",
      "https://orfgenetics.com/products/il-2-human-recombinant\n",
      "process no 3 completed\n",
      "process no 3 completed\n",
      "process no 3 completed\n",
      "https://orfgenetics.com/products/gdnf-human-recombinant\n",
      "process no 4 completed\n",
      "process no 4 completed\n",
      "process no 4 completed\n",
      "https://orfgenetics.com/products/egf-recombinant-human\n",
      "process no 5 completed\n",
      "process no 5 completed\n",
      "https://orfgenetics.com/products/scf-murine-recombinant\n",
      "process no 6 completed\n",
      "process no 6 completed\n",
      "process no 6 completed\n",
      "https://orfgenetics.com/products/tnf-alpha-human-recombinant\n",
      "process no 7 completed\n",
      "process no 7 completed\n",
      "process no 7 completed\n",
      "https://orfgenetics.com/products/ifn-gamma-human-recombinant\n",
      "process no 8 completed\n",
      "process no 8 completed\n",
      "process no 8 completed\n",
      "process no 8 completed\n",
      "https://orfgenetics.com/products/scf-human-recombinant\n",
      "process no 9 completed\n",
      "process no 9 completed\n",
      "process no 9 completed\n",
      "https://orfgenetics.com/products/il-3-human-recombinant\n",
      "process no 10 completed\n",
      "process no 10 completed\n",
      "process no 10 completed\n",
      "https://orfgenetics.com/products/hlif-human-recombinant\n",
      "process no 11 completed\n",
      "process no 11 completed\n",
      "process no 11 completed\n",
      "https://orfgenetics.com/products/il-4-human-recombinant\n",
      "process no 12 completed\n",
      "process no 12 completed\n",
      "process no 12 completed\n",
      "process no 12 completed\n",
      "https://orfgenetics.com/products/m-csf-human-recombinant\n",
      "process no 13 completed\n",
      "process no 13 completed\n",
      "process no 13 completed\n",
      "https://orfgenetics.com/products/gm-csf-human-recombinant\n",
      "process no 14 completed\n",
      "process no 14 completed\n",
      "process no 14 completed\n",
      "https://orfgenetics.com/products/g-csf-human-recombinant\n",
      "process no 15 completed\n",
      "process no 15 completed\n",
      "process no 15 completed\n",
      "https://orfgenetics.com/products/bmp-2-human-recombinant\n",
      "process no 16 completed\n",
      "process no 16 completed\n",
      "https://orfgenetics.com/products/flt3-ligand-human-recombinant\n",
      "process no 17 completed\n",
      "process no 17 completed\n",
      "process no 17 completed\n",
      "https://orfgenetics.com/products/vegf165-recombinant-human-protein\n",
      "process no 18 completed\n",
      "process no 18 completed\n",
      "process no 18 completed\n",
      "process no 18 completed\n"
     ]
    }
   ],
   "source": [
    "empty=[]\n",
    "for num,x in enumerate(rec_urls):\n",
    "    print(x)\n",
    "    source=requests.get(x).text\n",
    "    soup=BeautifulSoup(source,'lxml')\n",
    "    title=soup.find('h1',{\"itemprop\":\"name\"}).text\n",
    "    sze=size(soup)\n",
    "    descx=try_desc(soup)\n",
    "    for s in sze:\n",
    "        s.update({\"Title\":title})\n",
    "        s.update({\"URL\":x})\n",
    "        s.update(descx)\n",
    "        empty.append(s)\n",
    "        print(\"process no \"+str(num)+\" completed\")\n",
    "\n",
    "    \n",
    "    \n"
   ]
  },
  {
   "cell_type": "code",
   "execution_count": 130,
   "metadata": {},
   "outputs": [
    {
     "data": {
      "text/plain": [
       "Index(['Size', 'Price', 'Title', 'URL', 'catalog number', 'alternative names',\n",
       "       'description', 'source', 'formulation', 'purity', 'reconstitution',\n",
       "       'stability', 'biological activity', 'endotoxin level', 'mat assay',\n",
       "       'molecular weight', 'molecular information', '',\n",
       "       '<span size=\"3\" style=\"font-size: medium;\"></span>'],\n",
       "      dtype='object')"
      ]
     },
     "execution_count": 130,
     "metadata": {},
     "output_type": "execute_result"
    }
   ],
   "source": [
    "df=pd.DataFrame(empty)\n",
    "df.columns"
   ]
  },
  {
   "cell_type": "code",
   "execution_count": 131,
   "metadata": {},
   "outputs": [],
   "source": [
    "df.drop(['<span size=\"3\" style=\"font-size: medium;\"></span>'],axis=1,inplace=True)#.isna().sum()"
   ]
  },
  {
   "cell_type": "code",
   "execution_count": 132,
   "metadata": {},
   "outputs": [],
   "source": [
    "df.to_excel(\"03302020_isokine_recombinant1.xlsx\" ,header=True,index=False)"
   ]
  },
  {
   "cell_type": "code",
   "execution_count": 58,
   "metadata": {},
   "outputs": [
    {
     "name": "stdout",
     "output_type": "stream",
     "text": [
      "my name is\n"
     ]
    }
   ],
   "source": [
    "a=\"my name is    \"\n",
    "print(a.strip())"
   ]
  },
  {
   "cell_type": "code",
   "execution_count": 67,
   "metadata": {},
   "outputs": [
    {
     "data": {
      "text/plain": [
       "Size                                                                 50ug \n",
       "Price                                                          €135.00 EUR\n",
       "Title                               FGF basic (146 aa), human, recombinant\n",
       "URL                             https://orfgenetics.com/products/fgf-basic\n",
       "catalog number                                                  01-A01110 \n",
       "alternative names        Basic fibroblast growth factor; bFGF; FGF2; FG...\n",
       "description              FGF-basic (bFGF or FGF2) is a member of the fi...\n",
       "source                   Produced in the endosperm tissue of barley gra...\n",
       "formulation                                  PBS pH 7.2, sterile filtered \n",
       "purity                          Greater than 95% by SDS-PAGE gel analysis \n",
       "reconstitution           Note: Always centrifuge the vial before openin...\n",
       "stability                The lyophilized protein, though stable at room...\n",
       "biological activity      Each batch of ISOkine™ growth factor is tested...\n",
       "endotoxin level          Endotoxin level is less than 0.005ng per µg of...\n",
       "mat assay                Purified ISOkine™ product carries no pyrogenic...\n",
       "molecular weight         This recombinant human FGF-basic consists of 1...\n",
       "molecular information                                                  NaN\n",
       "                                                                       NaN\n",
       "Name: 1, dtype: object"
      ]
     },
     "execution_count": 67,
     "metadata": {},
     "output_type": "execute_result"
    }
   ],
   "source": [
    "df.iloc[1]"
   ]
  },
  {
   "cell_type": "code",
   "execution_count": null,
   "metadata": {},
   "outputs": [],
   "source": []
  }
 ],
 "metadata": {
  "kernelspec": {
   "display_name": "Python 3",
   "language": "python",
   "name": "python3"
  },
  "language_info": {
   "codemirror_mode": {
    "name": "ipython",
    "version": 3
   },
   "file_extension": ".py",
   "mimetype": "text/x-python",
   "name": "python",
   "nbconvert_exporter": "python",
   "pygments_lexer": "ipython3",
   "version": "3.7.4"
  }
 },
 "nbformat": 4,
 "nbformat_minor": 2
}

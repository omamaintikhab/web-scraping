{
 "cells": [
  {
   "cell_type": "code",
   "execution_count": 2,
   "metadata": {},
   "outputs": [],
   "source": [
    "from bs4 import BeautifulSoup\n",
    "import requests\n",
    "import pandas as pd\n",
    "import time"
   ]
  },
  {
   "cell_type": "code",
   "execution_count": 225,
   "metadata": {},
   "outputs": [],
   "source": [
    "url=\"https://oetltd.com/product/super-sf9-3-cells/\"\n",
    "source=requests.get(url).text\n",
    "soup=BeautifulSoup(source,'lxml')\n",
    "#pro\n"
   ]
  },
  {
   "cell_type": "code",
   "execution_count": 229,
   "metadata": {},
   "outputs": [
    {
     "data": {
      "text/plain": [
       "[{'SKU': '600104', 'Price': '£609.00', 'Quantity': 1}]"
      ]
     },
     "execution_count": 229,
     "metadata": {},
     "output_type": "execute_result"
    }
   ],
   "source": [
    "pro_price_cell(soup)"
   ]
  },
  {
   "cell_type": "code",
   "execution_count": 228,
   "metadata": {},
   "outputs": [],
   "source": [
    "def pro_price_cell(soup):\n",
    "    final=[]\n",
    "    try:\n",
    "        prz=[]\n",
    "        sze=[]\n",
    "        skuu=[]\n",
    "        form=soup.find('form',{\"class\":\"variations_form cart\"})['data-product_variations']\n",
    "        form=form.replace(\"[\",'')\n",
    "        form=form.replace(\"{\",'')\n",
    "        form=form.replace(\"}\",'')\n",
    "        form=form.replace('\"','')\n",
    "        form=form.split(\",\")\n",
    "        form\n",
    "        for i in form:\n",
    "            if 'display_price:' in i:\n",
    "                price=i.split(\":\")\n",
    "                price=price[-1]\n",
    "                prz.append(price)\n",
    "            if 'attribute_pa_esf-921-quantity:' in i:\n",
    "                size=i.split(\":\")\n",
    "\n",
    "                size=size[-1]\n",
    "                sze.append(size)\n",
    "            if 'sku' in i:\n",
    "                sku=i.split(\":\")\n",
    "                sku=sku[-1]\n",
    "                skuu.append(sku)\n",
    "        for i in range(len(sze)):\n",
    "            temp={}\n",
    "            temp.update({\"SKU\":skuu[i],\"Price\":prz[i],\"Quantity\":sze[i]})\n",
    "            final.append(temp)\n",
    "    except:\n",
    "        p={}\n",
    "        price=soup.find('span',{\"class\":\"woocommerce-Price-amount amount\"}).text\n",
    "        sku=soup.find('span',{\"class\":\"sku\"}).text\n",
    "        p.update({\"SKU\":sku,\"Price\":price,\"Quantity\":1})\n",
    "        final.append(p)\n",
    "    return final    "
   ]
  },
  {
   "cell_type": "code",
   "execution_count": 145,
   "metadata": {},
   "outputs": [
    {
     "data": {
      "text/plain": [
       "{'baculoCOMPLETE User Guide': 'https://oetltd.com/wp-content/uploads/2019/01/baculoCOMPLETE-User-Guide-2019-20.pdf'}"
      ]
     },
     "execution_count": 145,
     "metadata": {},
     "output_type": "execute_result"
    }
   ],
   "source": [
    "def userguide(soup):\n",
    "    lin_dic={}\n",
    "    try:\n",
    "\n",
    "        pdfs=soup.find(\"div\",{\"class\":\"product-documents-container\"})\n",
    "        links=pdfs.findAll('a')\n",
    "        for link in links:\n",
    "\n",
    "            lin_dic.update({link.text:link['href']})\n",
    "    except:\n",
    "        pass\n",
    "\n",
    "    return lin_dic \n",
    "userguide(soup)"
   ]
  },
  {
   "cell_type": "code",
   "execution_count": 146,
   "metadata": {},
   "outputs": [],
   "source": [
    "def pro_price(soup):\n",
    "    final=[]\n",
    "    try:\n",
    "        prz=[]\n",
    "        sze=[]\n",
    "        skuu=[]\n",
    "        form=soup.find('form',{\"class\":\"variations_form cart\"})['data-product_variations']\n",
    "        form=form.replace(\"[\",'')\n",
    "        form=form.replace(\"{\",'')\n",
    "        form=form.replace(\"}\",'')\n",
    "        form=form.replace('\"','')\n",
    "        form=form.split(\",\")\n",
    "        form\n",
    "        for i in form:\n",
    "            if 'display_price:' in i:\n",
    "                price=i.split(\":\")\n",
    "                price=price[-1]\n",
    "                prz.append(price)\n",
    "            if 'attribute_pa_fb-size-of-kit:' in i:\n",
    "                size=i.split(\":\")\n",
    "\n",
    "                size=size[-1]\n",
    "                sze.append(size)\n",
    "            if 'sku' in i:\n",
    "                sku=i.split(\":\")\n",
    "                sku=sku[-1]\n",
    "                skuu.append(sku)\n",
    "        for i in range(len(sze)):\n",
    "            temp={}\n",
    "            temp.update({\"SKU\":skuu[i],\"Price\":prz[i],\"Size\":sze[i]})\n",
    "            final.append(temp)\n",
    "    except:\n",
    "        p={}\n",
    "        price=soup.find('span',{\"class\":\"woocommerce-Price-amount amount\"}).text\n",
    "        sku=soup.find('span',{\"class\":\"sku\"}).text\n",
    "        p.update({\"SKU\":sku,\"Price\":price})\n",
    "        final.append(p)\n",
    "    return final    "
   ]
  },
  {
   "cell_type": "code",
   "execution_count": 168,
   "metadata": {},
   "outputs": [],
   "source": [
    "def cat_tit(soup):\n",
    "    cat={}\n",
    "    try:\n",
    "        category=soup.find('span',{\"class\":\"posted_in\"}).text\n",
    "        category=category.split(\":\")\n",
    "        cat.update({category[0]:' '.join(category[1:])})\n",
    "    except:\n",
    "        pass\n",
    "    try:\n",
    "        tag=soup.find('span',{\"class\":\"tagged_as\"}).text\n",
    "        tag=tag.split(\":\")\n",
    "        cat.update({tag[0]:' '.join(tag[1:])})\n",
    "    except:\n",
    "        pass\n",
    "    try:\n",
    "        \n",
    "        title=soup.find('h1',{\"class\":\"product_title entry-title\"}).text\n",
    "        cat.update({\"Title\":title})\n",
    "    except:\n",
    "        pass\n",
    "    return cat"
   ]
  },
  {
   "cell_type": "code",
   "execution_count": 148,
   "metadata": {},
   "outputs": [
    {
     "data": {
      "text/plain": [
       "{'Image_1': 'https://oetltd.com/wp-content/uploads/2015/02/baculoCOMPLETE-2.jpg'}"
      ]
     },
     "execution_count": 148,
     "metadata": {},
     "output_type": "execute_result"
    }
   ],
   "source": [
    "def pro_img(soup):\n",
    "    imagez={}\n",
    "    try:\n",
    "        img=soup.find('div',{\"class\":'images'})\n",
    "        images=img.findAll('img')\n",
    "        images\n",
    "        for i,im in enumerate(images):\n",
    "            imagez.update({\"Image_\"+str(i+1):im[\"src\"]})\n",
    "    except:\n",
    "        pass\n",
    "    return imagez \n",
    "pro_img(soup)"
   ]
  },
  {
   "cell_type": "code",
   "execution_count": 149,
   "metadata": {},
   "outputs": [],
   "source": [
    "def pro_desc(soup):\n",
    "    disc={}\n",
    "    try:\n",
    "\n",
    "        desc=soup.find('div',{\"id\":\"tab-description\"}).text\n",
    "        if 'Product Description'in desc:\n",
    "            desc=desc.replace('Product Description','')\n",
    "        desc=desc.replace('\\n','')    \n",
    "        disc.update({\"Description\":desc})\n",
    "    except:\n",
    "        pass\n",
    "    return disc"
   ]
  },
  {
   "cell_type": "code",
   "execution_count": 150,
   "metadata": {},
   "outputs": [],
   "source": [
    "def pro_tab(soup):\n",
    "    tab_data={}\n",
    "    try:\n",
    "        table=soup.find('table',{\"class\":\"shop_attributes\"})\n",
    "        table=table.findAll('tr')\n",
    "        for tab in table:\n",
    "            th=tab.find('th').text\n",
    "            th=th.split()\n",
    "            th=' '.join(th)\n",
    "            td=tab.find('td').text\n",
    "            tab_data.update({th:td})\n",
    "    except:\n",
    "        pass\n",
    "    return tab_data    "
   ]
  },
  {
   "cell_type": "code",
   "execution_count": 151,
   "metadata": {},
   "outputs": [
    {
     "data": {
      "text/plain": [
       "{'Product and Price List': 'https://oetltd.com/wp-content/uploads/2018/12/Customer-Product-and-Price-List-January-2020.pdf',\n",
       " 'baculoCOMPLETE User Guide': 'https://oetltd.com/wp-content/uploads/2019/01/baculoCOMPLETE-User-Guide-2019-20.pdf',\n",
       " 'flashBAC™ Compatible Vectors': 'https://oetltd.com/wp-content/uploads/2017/09/flashBAC-Compatible-Vectors-Table.pdf',\n",
       " 'contact us': 'https://oetltd.com/contact/'}"
      ]
     },
     "execution_count": 151,
     "metadata": {},
     "output_type": "execute_result"
    }
   ],
   "source": [
    "def pdfs(soup):\n",
    "    lin_dic={}\n",
    "    try:\n",
    "        links=soup.find('div',{\"class\":\"textwidget\"})\n",
    "        links=links.findAll('a')\n",
    "        for link in links:\n",
    "            lin_dic.update({link.text:link['href']})\n",
    "    except:\n",
    "        pass\n",
    "    return lin_dic    \n",
    "pdfs(soup)"
   ]
  },
  {
   "cell_type": "code",
   "execution_count": 205,
   "metadata": {},
   "outputs": [],
   "source": [
    "#\"https://oetltd.com/product/flashbac-prime/\",\"https://oetltd.com/product/flashbac-ultra/\",\n",
    "url=\"https://oetltd.com/product-category/insect-cell-culture/insect-cells/\"\n",
    "source=requests.get(url).text\n",
    "soup=BeautifulSoup(source,'lxml')\n",
    "   # https://oetltd.com/product-category/baculovirus-products/baculovirus-expression-kit-baculocomplete/"
   ]
  },
  {
   "cell_type": "code",
   "execution_count": 206,
   "metadata": {},
   "outputs": [],
   "source": [
    "#urls=[]"
   ]
  },
  {
   "cell_type": "code",
   "execution_count": 207,
   "metadata": {},
   "outputs": [
    {
     "data": {
      "text/plain": [
       "['https://oetltd.com/product/esf-af/',\n",
       " 'https://oetltd.com/product/transfection-media/',\n",
       " 'https://oetltd.com/product/esf-921-delta-series-all-amino-acid-deficient/',\n",
       " 'https://oetltd.com/product/production-boost-additive/',\n",
       " 'https://oetltd.com/product/esf-921-delta-series-methionine-deficient/',\n",
       " 'https://oetltd.com/product/esf-921/',\n",
       " 'https://oetltd.com/product/sf21-cells/',\n",
       " 'https://oetltd.com/product/super-sf9-3-cells/',\n",
       " 'https://oetltd.com/product/super-sf9-2-cells/',\n",
       " 'https://oetltd.com/product/super-sf9-1-cells/',\n",
       " 'https://oetltd.com/product/sf9-cells/',\n",
       " 'https://oetltd.com/product/esf-af/',\n",
       " 'https://oetltd.com/product/transfection-media/',\n",
       " 'https://oetltd.com/product/esf-921-delta-series-all-amino-acid-deficient/',\n",
       " 'https://oetltd.com/product/production-boost-additive/',\n",
       " 'https://oetltd.com/product/esf-921-delta-series-methionine-deficient/',\n",
       " 'https://oetltd.com/product/esf-921/',\n",
       " 'https://oetltd.com/product/sf21-cells/',\n",
       " 'https://oetltd.com/product/super-sf9-3-cells/',\n",
       " 'https://oetltd.com/product/super-sf9-2-cells/',\n",
       " 'https://oetltd.com/product/super-sf9-1-cells/',\n",
       " 'https://oetltd.com/product/sf9-cells/',\n",
       " 'https://oetltd.com/product/esf-af/',\n",
       " 'https://oetltd.com/product/transfection-media/',\n",
       " 'https://oetltd.com/product/esf-921-delta-series-all-amino-acid-deficient/',\n",
       " 'https://oetltd.com/product/production-boost-additive/',\n",
       " 'https://oetltd.com/product/esf-921-delta-series-methionine-deficient/',\n",
       " 'https://oetltd.com/product/esf-921/',\n",
       " 'https://oetltd.com/product/sf21-cells/',\n",
       " 'https://oetltd.com/product/super-sf9-3-cells/',\n",
       " 'https://oetltd.com/product/super-sf9-2-cells/',\n",
       " 'https://oetltd.com/product/super-sf9-1-cells/',\n",
       " 'https://oetltd.com/product/sf9-cells/',\n",
       " 'https://oetltd.com/product/esf-af/',\n",
       " 'https://oetltd.com/product/transfection-media/',\n",
       " 'https://oetltd.com/product/esf-921-delta-series-all-amino-acid-deficient/',\n",
       " 'https://oetltd.com/product/production-boost-additive/',\n",
       " 'https://oetltd.com/product/esf-921-delta-series-methionine-deficient/',\n",
       " 'https://oetltd.com/product/esf-921/',\n",
       " 'https://oetltd.com/product/sf21-cells/',\n",
       " 'https://oetltd.com/product/super-sf9-3-cells/',\n",
       " 'https://oetltd.com/product/super-sf9-2-cells/',\n",
       " 'https://oetltd.com/product/super-sf9-1-cells/',\n",
       " 'https://oetltd.com/product/sf9-cells/']"
      ]
     },
     "execution_count": 207,
     "metadata": {},
     "output_type": "execute_result"
    }
   ],
   "source": [
    "prod=soup.find('div',{\"class\":'listproduct'})\n",
    "prod=prod.findAll('li')\n",
    "for li in prod:\n",
    "    try:\n",
    "        urls.append(li.find('a')['href'])\n",
    "    except:\n",
    "        pass\n",
    "urls    "
   ]
  },
  {
   "cell_type": "code",
   "execution_count": 230,
   "metadata": {},
   "outputs": [
    {
     "data": {
      "text/plain": [
       "44"
      ]
     },
     "execution_count": 230,
     "metadata": {},
     "output_type": "execute_result"
    }
   ],
   "source": [
    "len(urls)\n",
    "\n",
    "\n"
   ]
  },
  {
   "cell_type": "code",
   "execution_count": 233,
   "metadata": {},
   "outputs": [
    {
     "name": "stdout",
     "output_type": "stream",
     "text": [
      "{'SKU': '500400', 'Price': '60', 'Quantity': '1L, 5 x 1L, 10 x 1L, 3 x 1L\\n', 'URL': 'https://oetltd.com/product/esf-af/', 'Category': ' Expression Systems Insect Cell Culture Media', 'Tags': ' insect cell media, insect culture media, insect growth media, insect media', 'Title': 'ESF AF (Animal Free)', 'Image_1': 'https://oetltd.com/wp-content/uploads/2015/10/ESF-AF.png', 'Description': 'Expression Systems LLC ESF AF (Animal Free) (cat# 500400-500404) is an animal origin-free formulation designed for excellent cell growth of a wide range of insect cells including Spodoptera frugiperda (Sf9, Sf21),\\xa0Trichoplusia ni (T.ni or Hi5) and\\xa0Drosophila\\xa0S2.\\xa0ESF AF enables maximum expression for applications such as production of sub-unit vaccines, virus-like particles and gene therapy vectors. It is the logical choice for further manufacturing under cGMP/FDA regulatory compliance.Benefits of using ESF AF include:Produces high titer baculovirus vector yieldsCompatible with all OET’s flashBAC™ technology but also other BEV platformsComplete, ready-to-use – no additional reagents requiredIdeal for both small and large scale manufacturing of insect cellsAlready existing cell cultures can be easily adapted**Please be aware that the standard lead time for this product is 1-3 weeks.', 'ESF Animal Free (AF) MSDS': 'https://oetltd.com/wp-content/uploads/2015/10/ESF-921-Animal-Free-AF-MSDS.pdf', 'ESF Animal Free (AF) Certificate of Origin': 'https://oetltd.com/wp-content/uploads/2015/10/ESF-Animal-Free-AF-Media-Certificate-of-Origin.pdf'}\n",
      "*****************************\n",
      "process 0 completed\n",
      "{'SKU': '500401', 'Price': '175', 'Quantity': '1L, 5 x 1L, 10 x 1L, 3 x 1L\\n', 'URL': 'https://oetltd.com/product/esf-af/', 'Category': ' Expression Systems Insect Cell Culture Media', 'Tags': ' insect cell media, insect culture media, insect growth media, insect media', 'Title': 'ESF AF (Animal Free)', 'Image_1': 'https://oetltd.com/wp-content/uploads/2015/10/ESF-AF.png', 'Description': 'Expression Systems LLC ESF AF (Animal Free) (cat# 500400-500404) is an animal origin-free formulation designed for excellent cell growth of a wide range of insect cells including Spodoptera frugiperda (Sf9, Sf21),\\xa0Trichoplusia ni (T.ni or Hi5) and\\xa0Drosophila\\xa0S2.\\xa0ESF AF enables maximum expression for applications such as production of sub-unit vaccines, virus-like particles and gene therapy vectors. It is the logical choice for further manufacturing under cGMP/FDA regulatory compliance.Benefits of using ESF AF include:Produces high titer baculovirus vector yieldsCompatible with all OET’s flashBAC™ technology but also other BEV platformsComplete, ready-to-use – no additional reagents requiredIdeal for both small and large scale manufacturing of insect cellsAlready existing cell cultures can be easily adapted**Please be aware that the standard lead time for this product is 1-3 weeks.', 'ESF Animal Free (AF) MSDS': 'https://oetltd.com/wp-content/uploads/2015/10/ESF-921-Animal-Free-AF-MSDS.pdf', 'ESF Animal Free (AF) Certificate of Origin': 'https://oetltd.com/wp-content/uploads/2015/10/ESF-Animal-Free-AF-Media-Certificate-of-Origin.pdf'}\n",
      "*****************************\n",
      "process 0 completed\n",
      "{'SKU': '500402', 'Price': '269', 'Quantity': '1L, 5 x 1L, 10 x 1L, 3 x 1L\\n', 'URL': 'https://oetltd.com/product/esf-af/', 'Category': ' Expression Systems Insect Cell Culture Media', 'Tags': ' insect cell media, insect culture media, insect growth media, insect media', 'Title': 'ESF AF (Animal Free)', 'Image_1': 'https://oetltd.com/wp-content/uploads/2015/10/ESF-AF.png', 'Description': 'Expression Systems LLC ESF AF (Animal Free) (cat# 500400-500404) is an animal origin-free formulation designed for excellent cell growth of a wide range of insect cells including Spodoptera frugiperda (Sf9, Sf21),\\xa0Trichoplusia ni (T.ni or Hi5) and\\xa0Drosophila\\xa0S2.\\xa0ESF AF enables maximum expression for applications such as production of sub-unit vaccines, virus-like particles and gene therapy vectors. It is the logical choice for further manufacturing under cGMP/FDA regulatory compliance.Benefits of using ESF AF include:Produces high titer baculovirus vector yieldsCompatible with all OET’s flashBAC™ technology but also other BEV platformsComplete, ready-to-use – no additional reagents requiredIdeal for both small and large scale manufacturing of insect cellsAlready existing cell cultures can be easily adapted**Please be aware that the standard lead time for this product is 1-3 weeks.', 'ESF Animal Free (AF) MSDS': 'https://oetltd.com/wp-content/uploads/2015/10/ESF-921-Animal-Free-AF-MSDS.pdf', 'ESF Animal Free (AF) Certificate of Origin': 'https://oetltd.com/wp-content/uploads/2015/10/ESF-Animal-Free-AF-Media-Certificate-of-Origin.pdf'}\n",
      "*****************************\n",
      "process 0 completed\n",
      "{'SKU': '500403', 'Price': '460', 'Quantity': '1L, 5 x 1L, 10 x 1L, 3 x 1L\\n', 'URL': 'https://oetltd.com/product/esf-af/', 'Category': ' Expression Systems Insect Cell Culture Media', 'Tags': ' insect cell media, insect culture media, insect growth media, insect media', 'Title': 'ESF AF (Animal Free)', 'Image_1': 'https://oetltd.com/wp-content/uploads/2015/10/ESF-AF.png', 'Description': 'Expression Systems LLC ESF AF (Animal Free) (cat# 500400-500404) is an animal origin-free formulation designed for excellent cell growth of a wide range of insect cells including Spodoptera frugiperda (Sf9, Sf21),\\xa0Trichoplusia ni (T.ni or Hi5) and\\xa0Drosophila\\xa0S2.\\xa0ESF AF enables maximum expression for applications such as production of sub-unit vaccines, virus-like particles and gene therapy vectors. It is the logical choice for further manufacturing under cGMP/FDA regulatory compliance.Benefits of using ESF AF include:Produces high titer baculovirus vector yieldsCompatible with all OET’s flashBAC™ technology but also other BEV platformsComplete, ready-to-use – no additional reagents requiredIdeal for both small and large scale manufacturing of insect cellsAlready existing cell cultures can be easily adapted**Please be aware that the standard lead time for this product is 1-3 weeks.', 'ESF Animal Free (AF) MSDS': 'https://oetltd.com/wp-content/uploads/2015/10/ESF-921-Animal-Free-AF-MSDS.pdf', 'ESF Animal Free (AF) Certificate of Origin': 'https://oetltd.com/wp-content/uploads/2015/10/ESF-Animal-Free-AF-Media-Certificate-of-Origin.pdf'}\n",
      "*****************************\n",
      "process 0 completed\n",
      "{'SKU': '500311', 'Price': '£85.00', 'Quantity': 1, 'URL': 'https://oetltd.com/product/esf-921-delta-series-all-amino-acid-deficient/', 'Category': ' Expression Systems Insect Cell Culture Media', 'Tags': ' insect cell media, insect culture media, insect growth media, insect media', 'Title': 'ESF 921 Delta Series All Amino Acid Deficient (1L)', 'Image_1': 'https://oetltd.com/wp-content/uploads/2015/09/ESF-921-Delta-Series.png', 'Description': 'Expression Systems LLC ESF 921 Delta Series All Amino Acid Deficient (cat# 500311) insect cell culture media is based on the popular ESF 921™ medium which provides excellent growth for a wide variety of insect cells. The amino acid deficient media allows the addition of isotopically-labelled amino acids for the analysis of protein structure and dynamics. This item comes with the option for the inclusion or PYE (polished yeast extract) or modified-low PYE.\\xa0 The modified-low PYE has less hydrolysate which can help to reduce unincorporated amino acids.Benefits of using ESF 921 Delta Series All Amino Acid Deficient include:Produces high titer baculovirus vector yieldsCompatible with all OET’s flashBAC™ technology but also other BEV platformsComplete, ready-to-use – no additional reagents requiredIdeal for both small and large scale manufacturing of insect cells**Please be aware that the standard lead time for this product is 1-3 weeks.', 'ESF 921 All Amino Acid Deficient MSDS': 'https://oetltd.com/wp-content/uploads/2015/09/ESF-921-All-Amino-Acid-Deficient-MSDS-1.pdf', 'ESF 921 All Amino Acid Deficient Certificate of Origin': 'https://oetltd.com/wp-content/uploads/2015/09/ESF-921-All-Amino-Acid-Deficient-Media-Certificate-of-Origin.pdf'}\n",
      "*****************************\n",
      "process 2 completed\n",
      "{'SKU': '500307', 'Price': '£50.00', 'Quantity': 1, 'URL': 'https://oetltd.com/product/production-boost-additive/', 'Category': ' Expression Systems Insect Cell Culture Media', 'Title': 'Production Boost Additive (100ml)', 'Image_1': 'https://oetltd.com/wp-content/uploads/2015/09/Production-Boost-Additive.png', 'Image_2': 'https://oetltd.com/wp-content/uploads/2015/09/Production-Boost-Additive-Graph-100x100.png', 'Description': 'Expression Systems LLC Production Boost Additive (cat# 500307) is a nutrient boost designed to increase protein expression by supporting the increased needs of insect cells infected by recombinant baculovirus. Production Boost Additive is a serum-free, animal-free formulation that works to extend the late and very-late expression period of production by maintaining high culture viability. The reagent works seamlessly with ESF 921™ and ESF AF insect cell culture media and is suitable for a wide range of insect cells including Spodoptera frugiperda (Sf9, Sf21),\\xa0Trichoplusia ni (T.ni or Hi5) and\\xa0Drosophila\\xa0S2.**Please be aware that the standard lead time for this product is 1-3 weeks.', 'Production Boost Additive MSDS': 'https://oetltd.com/wp-content/uploads/2015/09/Production-Boost-Additive-MSDS-1.pdf', 'Production Boost Additive Certificate of Origin': 'https://oetltd.com/wp-content/uploads/2015/09/Production-Boost-Additive-Certificate-of-Origin.pdf'}\n",
      "*****************************\n",
      "process 3 completed\n"
     ]
    },
    {
     "name": "stdout",
     "output_type": "stream",
     "text": [
      "{'SKU': '500310', 'Price': '£75.00', 'Quantity': 1, 'URL': 'https://oetltd.com/product/esf-921-delta-series-methionine-deficient/', 'Category': ' Expression Systems Insect Cell Culture Media', 'Tags': ' insect cell media, insect culture media, insect growth media, insect media', 'Title': 'ESF 921 Delta Series Methionine Deficient (1L)', 'Image_1': 'https://oetltd.com/wp-content/uploads/2015/09/ESF-921-Delta-Series.png', 'Description': 'Expression Systems LLC ESF 921 Delta Series Methionine Deficient (cat# 500310) insect cell culture media is based on the popular ESF 921™ medium which provides excellent growth for a wide variety of insect cells. The methionine deficient media allows the addition of methionine amino acids to target proteins for observing protein structure and dynamics. Methionine incorporation with this medium can range from 70-100%.Benefits of using ESF 921 Delta Series Methionine Deficient include:Produces high titer baculovirus vector yieldsCompatible with all OET’s\\xa0flashBAC™ technology but also other BEV platformsComplete, ready-to-use – no additional reagents requiredIdeal for both small and large scale manufacturing of insect cells**Please be aware that the standard lead time for this product is 1-3 weeks.', 'ESF 921 Methionine Deficient MSDS': 'https://oetltd.com/wp-content/uploads/2015/09/ESF-921-Methionine-Deficient-MSDS-1.pdf', 'ESF 921 Methionine Deficient Certificate of Origin': 'https://oetltd.com/wp-content/uploads/2015/09/ESF-921-Methionine-Deficient-Media-Certificate-of-Origin.pdf'}\n",
      "*****************************\n",
      "process 4 completed\n",
      "{'SKU': '500300', 'Price': '55', 'Quantity': '1L, 5 x 1L, 10 x 1L, 3 x 1L\\n', 'URL': 'https://oetltd.com/product/esf-921/', 'Category': ' Expression Systems Insect Cell Culture Media', 'Tags': ' insect cell media, insect culture media, insect growth media, insect media', 'Title': 'ESF 921 Insect Cell Media', 'Image_1': 'https://oetltd.com/wp-content/uploads/2015/06/ESF-921.png', 'Image_2': 'https://oetltd.com/wp-content/uploads/2015/06/ESF-921-Growth-Graph-100x100.png', 'Description': 'Expression Systems LLC ESF 921 ™ Insect Cell Culture Media (cat# 500300-500305) is designed for maximum virus and protein expression. This serum-free, protein-free insect cell culture medium provides excellent cell growth for a wide range of insect cells including Spodoptera frugiperda (Sf9, Sf21), Trichoplusia ni (T.ni or Hi5) and Drosophila S2. ESF 921 ™\\xa0Insect Cell Culture Medium enables maximum expression for applications such as gene therapy drug substance, virus-like particles, virus vectors and proteins of interest.Benefits of using ESF 921™ include:Produces high titre baculovirus vector yieldsCompatible with all OET’s flashBAC™ technology but also other BEV platformsComplete, ready-to-use – no additional reagents requiredIdeal for both small and large scale manufacturing of insect cellsAlready existing cell cultures can be easily adapted\\xa0', 'ESF 921 MSDS': 'https://oetltd.com/wp-content/uploads/2015/06/ESF-921-MSDS-1.pdf', 'ESF 921 Certificate of Origin': 'https://oetltd.com/wp-content/uploads/2015/09/ESF-921-Media-Certificate-of-Origin.pdf'}\n",
      "*****************************\n",
      "process 5 completed\n",
      "{'SKU': '500301', 'Price': '159', 'Quantity': '1L, 5 x 1L, 10 x 1L, 3 x 1L\\n', 'URL': 'https://oetltd.com/product/esf-921/', 'Category': ' Expression Systems Insect Cell Culture Media', 'Tags': ' insect cell media, insect culture media, insect growth media, insect media', 'Title': 'ESF 921 Insect Cell Media', 'Image_1': 'https://oetltd.com/wp-content/uploads/2015/06/ESF-921.png', 'Image_2': 'https://oetltd.com/wp-content/uploads/2015/06/ESF-921-Growth-Graph-100x100.png', 'Description': 'Expression Systems LLC ESF 921 ™ Insect Cell Culture Media (cat# 500300-500305) is designed for maximum virus and protein expression. This serum-free, protein-free insect cell culture medium provides excellent cell growth for a wide range of insect cells including Spodoptera frugiperda (Sf9, Sf21), Trichoplusia ni (T.ni or Hi5) and Drosophila S2. ESF 921 ™\\xa0Insect Cell Culture Medium enables maximum expression for applications such as gene therapy drug substance, virus-like particles, virus vectors and proteins of interest.Benefits of using ESF 921™ include:Produces high titre baculovirus vector yieldsCompatible with all OET’s flashBAC™ technology but also other BEV platformsComplete, ready-to-use – no additional reagents requiredIdeal for both small and large scale manufacturing of insect cellsAlready existing cell cultures can be easily adapted\\xa0', 'ESF 921 MSDS': 'https://oetltd.com/wp-content/uploads/2015/06/ESF-921-MSDS-1.pdf', 'ESF 921 Certificate of Origin': 'https://oetltd.com/wp-content/uploads/2015/09/ESF-921-Media-Certificate-of-Origin.pdf'}\n",
      "*****************************\n",
      "process 5 completed\n",
      "{'SKU': '500302', 'Price': '250', 'Quantity': '1L, 5 x 1L, 10 x 1L, 3 x 1L\\n', 'URL': 'https://oetltd.com/product/esf-921/', 'Category': ' Expression Systems Insect Cell Culture Media', 'Tags': ' insect cell media, insect culture media, insect growth media, insect media', 'Title': 'ESF 921 Insect Cell Media', 'Image_1': 'https://oetltd.com/wp-content/uploads/2015/06/ESF-921.png', 'Image_2': 'https://oetltd.com/wp-content/uploads/2015/06/ESF-921-Growth-Graph-100x100.png', 'Description': 'Expression Systems LLC ESF 921 ™ Insect Cell Culture Media (cat# 500300-500305) is designed for maximum virus and protein expression. This serum-free, protein-free insect cell culture medium provides excellent cell growth for a wide range of insect cells including Spodoptera frugiperda (Sf9, Sf21), Trichoplusia ni (T.ni or Hi5) and Drosophila S2. ESF 921 ™\\xa0Insect Cell Culture Medium enables maximum expression for applications such as gene therapy drug substance, virus-like particles, virus vectors and proteins of interest.Benefits of using ESF 921™ include:Produces high titre baculovirus vector yieldsCompatible with all OET’s flashBAC™ technology but also other BEV platformsComplete, ready-to-use – no additional reagents requiredIdeal for both small and large scale manufacturing of insect cellsAlready existing cell cultures can be easily adapted\\xa0', 'ESF 921 MSDS': 'https://oetltd.com/wp-content/uploads/2015/06/ESF-921-MSDS-1.pdf', 'ESF 921 Certificate of Origin': 'https://oetltd.com/wp-content/uploads/2015/09/ESF-921-Media-Certificate-of-Origin.pdf'}\n",
      "*****************************\n",
      "process 5 completed\n",
      "{'SKU': '500304', 'Price': '475', 'Quantity': '1L, 5 x 1L, 10 x 1L, 3 x 1L\\n', 'URL': 'https://oetltd.com/product/esf-921/', 'Category': ' Expression Systems Insect Cell Culture Media', 'Tags': ' insect cell media, insect culture media, insect growth media, insect media', 'Title': 'ESF 921 Insect Cell Media', 'Image_1': 'https://oetltd.com/wp-content/uploads/2015/06/ESF-921.png', 'Image_2': 'https://oetltd.com/wp-content/uploads/2015/06/ESF-921-Growth-Graph-100x100.png', 'Description': 'Expression Systems LLC ESF 921 ™ Insect Cell Culture Media (cat# 500300-500305) is designed for maximum virus and protein expression. This serum-free, protein-free insect cell culture medium provides excellent cell growth for a wide range of insect cells including Spodoptera frugiperda (Sf9, Sf21), Trichoplusia ni (T.ni or Hi5) and Drosophila S2. ESF 921 ™\\xa0Insect Cell Culture Medium enables maximum expression for applications such as gene therapy drug substance, virus-like particles, virus vectors and proteins of interest.Benefits of using ESF 921™ include:Produces high titre baculovirus vector yieldsCompatible with all OET’s flashBAC™ technology but also other BEV platformsComplete, ready-to-use – no additional reagents requiredIdeal for both small and large scale manufacturing of insect cellsAlready existing cell cultures can be easily adapted\\xa0', 'ESF 921 MSDS': 'https://oetltd.com/wp-content/uploads/2015/06/ESF-921-MSDS-1.pdf', 'ESF 921 Certificate of Origin': 'https://oetltd.com/wp-content/uploads/2015/09/ESF-921-Media-Certificate-of-Origin.pdf'}\n",
      "*****************************\n",
      "process 5 completed\n",
      "{'SKU': '600105', 'Price': '£195.00', 'Quantity': 1, 'URL': 'https://oetltd.com/product/sf21-cells/', 'Category': ' Insect Cells', 'Title': 'Sf21 Cells', 'Image_1': 'https://oetltd.com/wp-content/uploads/2015/07/Sf21-Cells.jpg', 'Description': 'Sf21 insect cells (IPLB-Sf21-AE) (cat# 600105) are derived from pupal ovarian tissues of Spodoptera frugiperda (Fall armyworm). The Sf21 cell line is a suitable host for transient or stable expression of recombinant proteins using baculovirus expression vectors, propagation of baculovirus stocks, and plaque assays to accurately determine AcMNPV virus titre. They are also ideal for monitoring cytopathic effects and are more tolerant to sub-optimal growth conditions. The insect cells are adapted to growth in serum-containing medium such as TC-100 supplemented with 10% FBS. They can easily be cultured as monolayer cultures in T-flasks or in stirred culture flasks.The cells are prepared from low passage cells (<30 passages) and supplied in a cryogenic vial containing 1 x 107\\xa0cells. Freezing medium is comprised of 50% fresh serum supplemented medium, 50% conditioned serum supplemented medium and Dimethyl Sulfoxide (DMSO) to a final concentration of 10%.Please note this product ships on dry ice so additional shipping charges may apply.', 'Sf21 Cells MSDS': 'https://oetltd.com/wp-content/uploads/2015/07/Sf21-Cells-MSDS.pdf', 'OET Insect Cell Culture User Guide': 'https://oetltd.com/wp-content/uploads/2019/01/Insect-Cell-Culture-Guide-2020-21.pdf', 'Sf21 Insect Cell User Guide': 'https://oetltd.com/wp-content/uploads/2015/07/Sf21-Insect-Cell-User-Guide.pdf'}\n",
      "*****************************\n",
      "process 6 completed\n"
     ]
    },
    {
     "name": "stdout",
     "output_type": "stream",
     "text": [
      "{'SKU': '600104', 'Price': '£609.00', 'Quantity': 1, 'URL': 'https://oetltd.com/product/super-sf9-3-cells/', 'Category': ' Insect Cells', 'Title': 'superSf9-3 Cells', 'Image_1': 'https://oetltd.com/wp-content/uploads/2015/02/Super-Sf9-3-Vials.jpg', 'Description': 'superSf9-3 insect cells (cat# 600104) are derived from the Spodoptera frugiperda (Sf9) cell line and are engineered for the enhanced expression of most recombinant proteins. The original Sf9 cell line has become the primary choice for baculovirus expression systems, being used worldwide for the production of recombinant viruses and expresion of proteins. superSf9-3 cells are able to offer a high general expression of a variety of recombinant proteins. This can help to increase the yield of recombinant proteins with mixed characteristics but also those with unknown toxicity and stability. superSf9-3 cells are adapted to serum free suspension culture in Sf-900™ II media but are capable of conforming to other suitable media types. The insect cells can easily be cultured as monolayer cultures in T-flasks, suspension cultures in shake flasks, or scaled up for use in bioreactors.The cells are prepared from low passage cells (<20 passages in Sf-900™ II medium) and supplied in a cryogenic vial containing 1×107\\xa0cells. Freezing medium is comprised of 50% fresh serum free medium, 50% conditioned serum free medium and Dimethyl Sulfoxide (DMSO) to a final concentration of 7.5%.Please note this product ships on dry ice so additional shipping charges may apply.', 'superSf9 Cells MSDS': 'https://oetltd.com/wp-content/uploads/2015/02/Super-Sf9-Cells-1-3-MSDS.pdf', 'OET Insect Cell Culture Manual': 'https://oetltd.com/wp-content/uploads/2019/01/Insect-Cell-Culture-Guide-2020-21.pdf', 'superSf9 Insect Cell User Guide': 'https://oetltd.com/wp-content/uploads/2015/02/superSf9-Insect-Cell-User-Guide.pdf'}\n",
      "*****************************\n",
      "process 7 completed\n",
      "{'SKU': '600103', 'Price': '£609.00', 'Quantity': 1, 'URL': 'https://oetltd.com/product/super-sf9-2-cells/', 'Category': ' Insect Cells', 'Title': 'superSf9-2 Cells', 'Image_1': 'https://oetltd.com/wp-content/uploads/2015/02/Super-Sf9-2-Vials.jpg', 'Description': 'superSf9-2 insect cells (cat# 600103) are derived from the Spodoptera frugiperda (Sf9) cell line and are engineered for the enhanced expression of highly unstable or toxic proteins. The original Sf9 cell line has become the primary choice for baculovirus expression systems, being used worldwide for the production of recombinant viruses and expresion of proteins. superSf9-2 cells are able to offer a very high expression level over a short period of time following baculovirus infection. This can help to increase the yield of proteins that are more prone to degredation or those that can become toxic to cell health and viability. superSf9-2 cells are adapted to serum free suspension culture in Sf-900™ II media but are capable of conforming to other suitable media types. The insect cells can easily be cultured as monolayer cultures in T-flasks, suspension cultures in shake flasks, or scaled up for use in bioreactors.The cells are prepared from low passage cells (<20 passages in Sf-900™ II medium) and supplied in a cryogenic vial containing 1×107 cells. Freezing medium is comprised of 50% fresh serum free medium, 50% conditioned serum free medium and Dimethyl Sulfoxide (DMSO) to a final concentration of 7.5%.Please note this product ships on dry ice so additional shipping charges may apply.', 'superSf9 Cells MSDS': 'https://oetltd.com/wp-content/uploads/2015/02/Super-Sf9-Cells-1-3-MSDS.pdf', 'OET Insect Cell Culture Manual': 'https://oetltd.com/wp-content/uploads/2019/01/Insect-Cell-Culture-Guide-2020-21.pdf', 'superSf9 Insect Cell User Guide': 'https://oetltd.com/wp-content/uploads/2015/02/superSf9-Insect-Cell-User-Guide.pdf'}\n",
      "*****************************\n",
      "process 8 completed\n",
      "{'SKU': '600102', 'Price': '£609.00', 'Quantity': 1, 'URL': 'https://oetltd.com/product/super-sf9-1-cells/', 'Category': ' Insect Cells', 'Title': 'superSf9-1 Cells', 'Image_1': 'https://oetltd.com/wp-content/uploads/2015/02/Super-Sf9-1-Vials.jpg', 'Description': 'superSf9-1 insect cells (cat# 600102) are derived from the Spodoptera frugiperda (Sf9) cell line and are engineered for the enhanced expression of highly stable intracellular and secreted proteins. The original Sf9 cell line has become the primary choice for baculovirus expression systems, being used worldwide for the production of recombinant viruses and expresion of proteins. superSf9-1 cells are able to offer a prolonged expression time following baculovirus infection. This can help to increase the yield of more stable intracellular, membrane and secreted proteins by up to 15-fold, provided that they are not subject to degredation. superSf9-1 cells are adapted to serum free suspension culture in Sf-900™ II media but are capable of conforming to other suitable media types. The insect cells can easily be cultured as monolayer cultures in T-flasks, suspension cultures in shake flasks, or scaled up for use in bioreactors.The cells are prepared from low passage cells (<20 passages in Sf-900™ II medium) and supplied in a cryogenic vial containing 1×107 cells. Freezing medium is comprised of 50% fresh serum free medium, 50% conditioned serum free medium and Dimethyl Sulfoxide (DMSO) to a final concentration of 7.5%.Please note this product ships on dry ice so additional shipping charges may apply.', 'superSf9 Cells MSDS': 'https://oetltd.com/wp-content/uploads/2015/02/Super-Sf9-Cells-1-3-MSDS.pdf', 'OET Insect Cell Culture Manual': 'https://oetltd.com/wp-content/uploads/2019/01/Insect-Cell-Culture-Guide-2020-21.pdf', 'superSf9 Insect Cell User Guide': 'https://oetltd.com/wp-content/uploads/2015/02/superSf9-Insect-Cell-User-Guide.pdf'}\n",
      "*****************************\n",
      "process 9 completed\n",
      "{'SKU': '600100', 'Price': '£195.00', 'Quantity': 1, 'URL': 'https://oetltd.com/product/sf9-cells/', 'Category': ' Insect Cells', 'Title': 'Sf9 Cells', 'Image_1': 'https://oetltd.com/wp-content/uploads/2015/02/Sf9-Vials.jpg', 'Description': 'Sf9 insect cells (cat# 600100) have become the workhorse of the baculovirus expression system, being used worldwide for the production of recombinant viruses and expression proteins. Sf9 cells are a clonal isolate from Spodoptera frugiperda (Fall armyworm) IPLB-Sf21-AE cells. The Sf9 cells are adapted to serum free suspension culture in ESF 921™ media but are capable of conforming to other suitable media types. The cells can be used for transient or stable expression of recombinant proteins; as monolayers for transfection and production of recombinant baculovirus; or for the propagation of baculovirus stocks. Sf9 insect cells can easily be cultured as monolayer cultures in T-flasks, suspension cultures in shake flasks, or scaled up for use in bioreactors.The cells are prepared from low passage cells (<30 passages in ESF 921™ medium) and supplied in a cryogenic vial containing 1×107 cells. Freezing medium is comprised of 50% fresh serum free medium, 50% conditioned serum free medium and Dimethyl Sulfoxide (DMSO) to a final concentration of 10%.Please note this product ships on dry ice so additional shipping charges may apply.', 'Sf9 Cells MSDS': 'https://oetltd.com/wp-content/uploads/2015/02/Sf9-Cells-MSDS.pdf', 'OET Insect Cell Culture Manual': 'https://oetltd.com/wp-content/uploads/2019/01/Insect-Cell-Culture-Guide-2020-21.pdf', 'Sf9 Cells User Guide': 'https://oetltd.com/wp-content/uploads/2015/02/Sf9-Insect-Cell-User-Guide.pdf'}\n",
      "*****************************\n",
      "process 10 completed\n",
      "{'SKU': '500400', 'Price': '60', 'Quantity': '1L, 5 x 1L, 10 x 1L, 3 x 1L\\n', 'URL': 'https://oetltd.com/product/esf-af/', 'Category': ' Expression Systems Insect Cell Culture Media', 'Tags': ' insect cell media, insect culture media, insect growth media, insect media', 'Title': 'ESF AF (Animal Free)', 'Image_1': 'https://oetltd.com/wp-content/uploads/2015/10/ESF-AF.png', 'Description': 'Expression Systems LLC ESF AF (Animal Free) (cat# 500400-500404) is an animal origin-free formulation designed for excellent cell growth of a wide range of insect cells including Spodoptera frugiperda (Sf9, Sf21),\\xa0Trichoplusia ni (T.ni or Hi5) and\\xa0Drosophila\\xa0S2.\\xa0ESF AF enables maximum expression for applications such as production of sub-unit vaccines, virus-like particles and gene therapy vectors. It is the logical choice for further manufacturing under cGMP/FDA regulatory compliance.Benefits of using ESF AF include:Produces high titer baculovirus vector yieldsCompatible with all OET’s flashBAC™ technology but also other BEV platformsComplete, ready-to-use – no additional reagents requiredIdeal for both small and large scale manufacturing of insect cellsAlready existing cell cultures can be easily adapted**Please be aware that the standard lead time for this product is 1-3 weeks.', 'ESF Animal Free (AF) MSDS': 'https://oetltd.com/wp-content/uploads/2015/10/ESF-921-Animal-Free-AF-MSDS.pdf', 'ESF Animal Free (AF) Certificate of Origin': 'https://oetltd.com/wp-content/uploads/2015/10/ESF-Animal-Free-AF-Media-Certificate-of-Origin.pdf'}\n",
      "*****************************\n",
      "process 11 completed\n",
      "{'SKU': '500401', 'Price': '175', 'Quantity': '1L, 5 x 1L, 10 x 1L, 3 x 1L\\n', 'URL': 'https://oetltd.com/product/esf-af/', 'Category': ' Expression Systems Insect Cell Culture Media', 'Tags': ' insect cell media, insect culture media, insect growth media, insect media', 'Title': 'ESF AF (Animal Free)', 'Image_1': 'https://oetltd.com/wp-content/uploads/2015/10/ESF-AF.png', 'Description': 'Expression Systems LLC ESF AF (Animal Free) (cat# 500400-500404) is an animal origin-free formulation designed for excellent cell growth of a wide range of insect cells including Spodoptera frugiperda (Sf9, Sf21),\\xa0Trichoplusia ni (T.ni or Hi5) and\\xa0Drosophila\\xa0S2.\\xa0ESF AF enables maximum expression for applications such as production of sub-unit vaccines, virus-like particles and gene therapy vectors. It is the logical choice for further manufacturing under cGMP/FDA regulatory compliance.Benefits of using ESF AF include:Produces high titer baculovirus vector yieldsCompatible with all OET’s flashBAC™ technology but also other BEV platformsComplete, ready-to-use – no additional reagents requiredIdeal for both small and large scale manufacturing of insect cellsAlready existing cell cultures can be easily adapted**Please be aware that the standard lead time for this product is 1-3 weeks.', 'ESF Animal Free (AF) MSDS': 'https://oetltd.com/wp-content/uploads/2015/10/ESF-921-Animal-Free-AF-MSDS.pdf', 'ESF Animal Free (AF) Certificate of Origin': 'https://oetltd.com/wp-content/uploads/2015/10/ESF-Animal-Free-AF-Media-Certificate-of-Origin.pdf'}\n",
      "*****************************\n",
      "process 11 completed\n",
      "{'SKU': '500402', 'Price': '269', 'Quantity': '1L, 5 x 1L, 10 x 1L, 3 x 1L\\n', 'URL': 'https://oetltd.com/product/esf-af/', 'Category': ' Expression Systems Insect Cell Culture Media', 'Tags': ' insect cell media, insect culture media, insect growth media, insect media', 'Title': 'ESF AF (Animal Free)', 'Image_1': 'https://oetltd.com/wp-content/uploads/2015/10/ESF-AF.png', 'Description': 'Expression Systems LLC ESF AF (Animal Free) (cat# 500400-500404) is an animal origin-free formulation designed for excellent cell growth of a wide range of insect cells including Spodoptera frugiperda (Sf9, Sf21),\\xa0Trichoplusia ni (T.ni or Hi5) and\\xa0Drosophila\\xa0S2.\\xa0ESF AF enables maximum expression for applications such as production of sub-unit vaccines, virus-like particles and gene therapy vectors. It is the logical choice for further manufacturing under cGMP/FDA regulatory compliance.Benefits of using ESF AF include:Produces high titer baculovirus vector yieldsCompatible with all OET’s flashBAC™ technology but also other BEV platformsComplete, ready-to-use – no additional reagents requiredIdeal for both small and large scale manufacturing of insect cellsAlready existing cell cultures can be easily adapted**Please be aware that the standard lead time for this product is 1-3 weeks.', 'ESF Animal Free (AF) MSDS': 'https://oetltd.com/wp-content/uploads/2015/10/ESF-921-Animal-Free-AF-MSDS.pdf', 'ESF Animal Free (AF) Certificate of Origin': 'https://oetltd.com/wp-content/uploads/2015/10/ESF-Animal-Free-AF-Media-Certificate-of-Origin.pdf'}\n",
      "*****************************\n",
      "process 11 completed\n",
      "{'SKU': '500403', 'Price': '460', 'Quantity': '1L, 5 x 1L, 10 x 1L, 3 x 1L\\n', 'URL': 'https://oetltd.com/product/esf-af/', 'Category': ' Expression Systems Insect Cell Culture Media', 'Tags': ' insect cell media, insect culture media, insect growth media, insect media', 'Title': 'ESF AF (Animal Free)', 'Image_1': 'https://oetltd.com/wp-content/uploads/2015/10/ESF-AF.png', 'Description': 'Expression Systems LLC ESF AF (Animal Free) (cat# 500400-500404) is an animal origin-free formulation designed for excellent cell growth of a wide range of insect cells including Spodoptera frugiperda (Sf9, Sf21),\\xa0Trichoplusia ni (T.ni or Hi5) and\\xa0Drosophila\\xa0S2.\\xa0ESF AF enables maximum expression for applications such as production of sub-unit vaccines, virus-like particles and gene therapy vectors. It is the logical choice for further manufacturing under cGMP/FDA regulatory compliance.Benefits of using ESF AF include:Produces high titer baculovirus vector yieldsCompatible with all OET’s flashBAC™ technology but also other BEV platformsComplete, ready-to-use – no additional reagents requiredIdeal for both small and large scale manufacturing of insect cellsAlready existing cell cultures can be easily adapted**Please be aware that the standard lead time for this product is 1-3 weeks.', 'ESF Animal Free (AF) MSDS': 'https://oetltd.com/wp-content/uploads/2015/10/ESF-921-Animal-Free-AF-MSDS.pdf', 'ESF Animal Free (AF) Certificate of Origin': 'https://oetltd.com/wp-content/uploads/2015/10/ESF-Animal-Free-AF-Media-Certificate-of-Origin.pdf'}\n",
      "*****************************\n",
      "process 11 completed\n"
     ]
    },
    {
     "name": "stdout",
     "output_type": "stream",
     "text": [
      "{'SKU': '500311', 'Price': '£85.00', 'Quantity': 1, 'URL': 'https://oetltd.com/product/esf-921-delta-series-all-amino-acid-deficient/', 'Category': ' Expression Systems Insect Cell Culture Media', 'Tags': ' insect cell media, insect culture media, insect growth media, insect media', 'Title': 'ESF 921 Delta Series All Amino Acid Deficient (1L)', 'Image_1': 'https://oetltd.com/wp-content/uploads/2015/09/ESF-921-Delta-Series.png', 'Description': 'Expression Systems LLC ESF 921 Delta Series All Amino Acid Deficient (cat# 500311) insect cell culture media is based on the popular ESF 921™ medium which provides excellent growth for a wide variety of insect cells. The amino acid deficient media allows the addition of isotopically-labelled amino acids for the analysis of protein structure and dynamics. This item comes with the option for the inclusion or PYE (polished yeast extract) or modified-low PYE.\\xa0 The modified-low PYE has less hydrolysate which can help to reduce unincorporated amino acids.Benefits of using ESF 921 Delta Series All Amino Acid Deficient include:Produces high titer baculovirus vector yieldsCompatible with all OET’s flashBAC™ technology but also other BEV platformsComplete, ready-to-use – no additional reagents requiredIdeal for both small and large scale manufacturing of insect cells**Please be aware that the standard lead time for this product is 1-3 weeks.', 'ESF 921 All Amino Acid Deficient MSDS': 'https://oetltd.com/wp-content/uploads/2015/09/ESF-921-All-Amino-Acid-Deficient-MSDS-1.pdf', 'ESF 921 All Amino Acid Deficient Certificate of Origin': 'https://oetltd.com/wp-content/uploads/2015/09/ESF-921-All-Amino-Acid-Deficient-Media-Certificate-of-Origin.pdf'}\n",
      "*****************************\n",
      "process 13 completed\n",
      "{'SKU': '500307', 'Price': '£50.00', 'Quantity': 1, 'URL': 'https://oetltd.com/product/production-boost-additive/', 'Category': ' Expression Systems Insect Cell Culture Media', 'Title': 'Production Boost Additive (100ml)', 'Image_1': 'https://oetltd.com/wp-content/uploads/2015/09/Production-Boost-Additive.png', 'Image_2': 'https://oetltd.com/wp-content/uploads/2015/09/Production-Boost-Additive-Graph-100x100.png', 'Description': 'Expression Systems LLC Production Boost Additive (cat# 500307) is a nutrient boost designed to increase protein expression by supporting the increased needs of insect cells infected by recombinant baculovirus. Production Boost Additive is a serum-free, animal-free formulation that works to extend the late and very-late expression period of production by maintaining high culture viability. The reagent works seamlessly with ESF 921™ and ESF AF insect cell culture media and is suitable for a wide range of insect cells including Spodoptera frugiperda (Sf9, Sf21),\\xa0Trichoplusia ni (T.ni or Hi5) and\\xa0Drosophila\\xa0S2.**Please be aware that the standard lead time for this product is 1-3 weeks.', 'Production Boost Additive MSDS': 'https://oetltd.com/wp-content/uploads/2015/09/Production-Boost-Additive-MSDS-1.pdf', 'Production Boost Additive Certificate of Origin': 'https://oetltd.com/wp-content/uploads/2015/09/Production-Boost-Additive-Certificate-of-Origin.pdf'}\n",
      "*****************************\n",
      "process 14 completed\n",
      "{'SKU': '500310', 'Price': '£75.00', 'Quantity': 1, 'URL': 'https://oetltd.com/product/esf-921-delta-series-methionine-deficient/', 'Category': ' Expression Systems Insect Cell Culture Media', 'Tags': ' insect cell media, insect culture media, insect growth media, insect media', 'Title': 'ESF 921 Delta Series Methionine Deficient (1L)', 'Image_1': 'https://oetltd.com/wp-content/uploads/2015/09/ESF-921-Delta-Series.png', 'Description': 'Expression Systems LLC ESF 921 Delta Series Methionine Deficient (cat# 500310) insect cell culture media is based on the popular ESF 921™ medium which provides excellent growth for a wide variety of insect cells. The methionine deficient media allows the addition of methionine amino acids to target proteins for observing protein structure and dynamics. Methionine incorporation with this medium can range from 70-100%.Benefits of using ESF 921 Delta Series Methionine Deficient include:Produces high titer baculovirus vector yieldsCompatible with all OET’s\\xa0flashBAC™ technology but also other BEV platformsComplete, ready-to-use – no additional reagents requiredIdeal for both small and large scale manufacturing of insect cells**Please be aware that the standard lead time for this product is 1-3 weeks.', 'ESF 921 Methionine Deficient MSDS': 'https://oetltd.com/wp-content/uploads/2015/09/ESF-921-Methionine-Deficient-MSDS-1.pdf', 'ESF 921 Methionine Deficient Certificate of Origin': 'https://oetltd.com/wp-content/uploads/2015/09/ESF-921-Methionine-Deficient-Media-Certificate-of-Origin.pdf'}\n",
      "*****************************\n",
      "process 15 completed\n",
      "{'SKU': '500300', 'Price': '55', 'Quantity': '1L, 5 x 1L, 10 x 1L, 3 x 1L\\n', 'URL': 'https://oetltd.com/product/esf-921/', 'Category': ' Expression Systems Insect Cell Culture Media', 'Tags': ' insect cell media, insect culture media, insect growth media, insect media', 'Title': 'ESF 921 Insect Cell Media', 'Image_1': 'https://oetltd.com/wp-content/uploads/2015/06/ESF-921.png', 'Image_2': 'https://oetltd.com/wp-content/uploads/2015/06/ESF-921-Growth-Graph-100x100.png', 'Description': 'Expression Systems LLC ESF 921 ™ Insect Cell Culture Media (cat# 500300-500305) is designed for maximum virus and protein expression. This serum-free, protein-free insect cell culture medium provides excellent cell growth for a wide range of insect cells including Spodoptera frugiperda (Sf9, Sf21), Trichoplusia ni (T.ni or Hi5) and Drosophila S2. ESF 921 ™\\xa0Insect Cell Culture Medium enables maximum expression for applications such as gene therapy drug substance, virus-like particles, virus vectors and proteins of interest.Benefits of using ESF 921™ include:Produces high titre baculovirus vector yieldsCompatible with all OET’s flashBAC™ technology but also other BEV platformsComplete, ready-to-use – no additional reagents requiredIdeal for both small and large scale manufacturing of insect cellsAlready existing cell cultures can be easily adapted\\xa0', 'ESF 921 MSDS': 'https://oetltd.com/wp-content/uploads/2015/06/ESF-921-MSDS-1.pdf', 'ESF 921 Certificate of Origin': 'https://oetltd.com/wp-content/uploads/2015/09/ESF-921-Media-Certificate-of-Origin.pdf'}\n",
      "*****************************\n",
      "process 16 completed\n",
      "{'SKU': '500301', 'Price': '159', 'Quantity': '1L, 5 x 1L, 10 x 1L, 3 x 1L\\n', 'URL': 'https://oetltd.com/product/esf-921/', 'Category': ' Expression Systems Insect Cell Culture Media', 'Tags': ' insect cell media, insect culture media, insect growth media, insect media', 'Title': 'ESF 921 Insect Cell Media', 'Image_1': 'https://oetltd.com/wp-content/uploads/2015/06/ESF-921.png', 'Image_2': 'https://oetltd.com/wp-content/uploads/2015/06/ESF-921-Growth-Graph-100x100.png', 'Description': 'Expression Systems LLC ESF 921 ™ Insect Cell Culture Media (cat# 500300-500305) is designed for maximum virus and protein expression. This serum-free, protein-free insect cell culture medium provides excellent cell growth for a wide range of insect cells including Spodoptera frugiperda (Sf9, Sf21), Trichoplusia ni (T.ni or Hi5) and Drosophila S2. ESF 921 ™\\xa0Insect Cell Culture Medium enables maximum expression for applications such as gene therapy drug substance, virus-like particles, virus vectors and proteins of interest.Benefits of using ESF 921™ include:Produces high titre baculovirus vector yieldsCompatible with all OET’s flashBAC™ technology but also other BEV platformsComplete, ready-to-use – no additional reagents requiredIdeal for both small and large scale manufacturing of insect cellsAlready existing cell cultures can be easily adapted\\xa0', 'ESF 921 MSDS': 'https://oetltd.com/wp-content/uploads/2015/06/ESF-921-MSDS-1.pdf', 'ESF 921 Certificate of Origin': 'https://oetltd.com/wp-content/uploads/2015/09/ESF-921-Media-Certificate-of-Origin.pdf'}\n",
      "*****************************\n",
      "process 16 completed\n",
      "{'SKU': '500302', 'Price': '250', 'Quantity': '1L, 5 x 1L, 10 x 1L, 3 x 1L\\n', 'URL': 'https://oetltd.com/product/esf-921/', 'Category': ' Expression Systems Insect Cell Culture Media', 'Tags': ' insect cell media, insect culture media, insect growth media, insect media', 'Title': 'ESF 921 Insect Cell Media', 'Image_1': 'https://oetltd.com/wp-content/uploads/2015/06/ESF-921.png', 'Image_2': 'https://oetltd.com/wp-content/uploads/2015/06/ESF-921-Growth-Graph-100x100.png', 'Description': 'Expression Systems LLC ESF 921 ™ Insect Cell Culture Media (cat# 500300-500305) is designed for maximum virus and protein expression. This serum-free, protein-free insect cell culture medium provides excellent cell growth for a wide range of insect cells including Spodoptera frugiperda (Sf9, Sf21), Trichoplusia ni (T.ni or Hi5) and Drosophila S2. ESF 921 ™\\xa0Insect Cell Culture Medium enables maximum expression for applications such as gene therapy drug substance, virus-like particles, virus vectors and proteins of interest.Benefits of using ESF 921™ include:Produces high titre baculovirus vector yieldsCompatible with all OET’s flashBAC™ technology but also other BEV platformsComplete, ready-to-use – no additional reagents requiredIdeal for both small and large scale manufacturing of insect cellsAlready existing cell cultures can be easily adapted\\xa0', 'ESF 921 MSDS': 'https://oetltd.com/wp-content/uploads/2015/06/ESF-921-MSDS-1.pdf', 'ESF 921 Certificate of Origin': 'https://oetltd.com/wp-content/uploads/2015/09/ESF-921-Media-Certificate-of-Origin.pdf'}\n",
      "*****************************\n",
      "process 16 completed\n",
      "{'SKU': '500304', 'Price': '475', 'Quantity': '1L, 5 x 1L, 10 x 1L, 3 x 1L\\n', 'URL': 'https://oetltd.com/product/esf-921/', 'Category': ' Expression Systems Insect Cell Culture Media', 'Tags': ' insect cell media, insect culture media, insect growth media, insect media', 'Title': 'ESF 921 Insect Cell Media', 'Image_1': 'https://oetltd.com/wp-content/uploads/2015/06/ESF-921.png', 'Image_2': 'https://oetltd.com/wp-content/uploads/2015/06/ESF-921-Growth-Graph-100x100.png', 'Description': 'Expression Systems LLC ESF 921 ™ Insect Cell Culture Media (cat# 500300-500305) is designed for maximum virus and protein expression. This serum-free, protein-free insect cell culture medium provides excellent cell growth for a wide range of insect cells including Spodoptera frugiperda (Sf9, Sf21), Trichoplusia ni (T.ni or Hi5) and Drosophila S2. ESF 921 ™\\xa0Insect Cell Culture Medium enables maximum expression for applications such as gene therapy drug substance, virus-like particles, virus vectors and proteins of interest.Benefits of using ESF 921™ include:Produces high titre baculovirus vector yieldsCompatible with all OET’s flashBAC™ technology but also other BEV platformsComplete, ready-to-use – no additional reagents requiredIdeal for both small and large scale manufacturing of insect cellsAlready existing cell cultures can be easily adapted\\xa0', 'ESF 921 MSDS': 'https://oetltd.com/wp-content/uploads/2015/06/ESF-921-MSDS-1.pdf', 'ESF 921 Certificate of Origin': 'https://oetltd.com/wp-content/uploads/2015/09/ESF-921-Media-Certificate-of-Origin.pdf'}\n",
      "*****************************\n",
      "process 16 completed\n"
     ]
    },
    {
     "name": "stdout",
     "output_type": "stream",
     "text": [
      "{'SKU': '600105', 'Price': '£195.00', 'Quantity': 1, 'URL': 'https://oetltd.com/product/sf21-cells/', 'Category': ' Insect Cells', 'Title': 'Sf21 Cells', 'Image_1': 'https://oetltd.com/wp-content/uploads/2015/07/Sf21-Cells.jpg', 'Description': 'Sf21 insect cells (IPLB-Sf21-AE) (cat# 600105) are derived from pupal ovarian tissues of Spodoptera frugiperda (Fall armyworm). The Sf21 cell line is a suitable host for transient or stable expression of recombinant proteins using baculovirus expression vectors, propagation of baculovirus stocks, and plaque assays to accurately determine AcMNPV virus titre. They are also ideal for monitoring cytopathic effects and are more tolerant to sub-optimal growth conditions. The insect cells are adapted to growth in serum-containing medium such as TC-100 supplemented with 10% FBS. They can easily be cultured as monolayer cultures in T-flasks or in stirred culture flasks.The cells are prepared from low passage cells (<30 passages) and supplied in a cryogenic vial containing 1 x 107\\xa0cells. Freezing medium is comprised of 50% fresh serum supplemented medium, 50% conditioned serum supplemented medium and Dimethyl Sulfoxide (DMSO) to a final concentration of 10%.Please note this product ships on dry ice so additional shipping charges may apply.', 'Sf21 Cells MSDS': 'https://oetltd.com/wp-content/uploads/2015/07/Sf21-Cells-MSDS.pdf', 'OET Insect Cell Culture User Guide': 'https://oetltd.com/wp-content/uploads/2019/01/Insect-Cell-Culture-Guide-2020-21.pdf', 'Sf21 Insect Cell User Guide': 'https://oetltd.com/wp-content/uploads/2015/07/Sf21-Insect-Cell-User-Guide.pdf'}\n",
      "*****************************\n",
      "process 17 completed\n",
      "{'SKU': '600104', 'Price': '£609.00', 'Quantity': 1, 'URL': 'https://oetltd.com/product/super-sf9-3-cells/', 'Category': ' Insect Cells', 'Title': 'superSf9-3 Cells', 'Image_1': 'https://oetltd.com/wp-content/uploads/2015/02/Super-Sf9-3-Vials.jpg', 'Description': 'superSf9-3 insect cells (cat# 600104) are derived from the Spodoptera frugiperda (Sf9) cell line and are engineered for the enhanced expression of most recombinant proteins. The original Sf9 cell line has become the primary choice for baculovirus expression systems, being used worldwide for the production of recombinant viruses and expresion of proteins. superSf9-3 cells are able to offer a high general expression of a variety of recombinant proteins. This can help to increase the yield of recombinant proteins with mixed characteristics but also those with unknown toxicity and stability. superSf9-3 cells are adapted to serum free suspension culture in Sf-900™ II media but are capable of conforming to other suitable media types. The insect cells can easily be cultured as monolayer cultures in T-flasks, suspension cultures in shake flasks, or scaled up for use in bioreactors.The cells are prepared from low passage cells (<20 passages in Sf-900™ II medium) and supplied in a cryogenic vial containing 1×107\\xa0cells. Freezing medium is comprised of 50% fresh serum free medium, 50% conditioned serum free medium and Dimethyl Sulfoxide (DMSO) to a final concentration of 7.5%.Please note this product ships on dry ice so additional shipping charges may apply.', 'superSf9 Cells MSDS': 'https://oetltd.com/wp-content/uploads/2015/02/Super-Sf9-Cells-1-3-MSDS.pdf', 'OET Insect Cell Culture Manual': 'https://oetltd.com/wp-content/uploads/2019/01/Insect-Cell-Culture-Guide-2020-21.pdf', 'superSf9 Insect Cell User Guide': 'https://oetltd.com/wp-content/uploads/2015/02/superSf9-Insect-Cell-User-Guide.pdf'}\n",
      "*****************************\n",
      "process 18 completed\n",
      "{'SKU': '600103', 'Price': '£609.00', 'Quantity': 1, 'URL': 'https://oetltd.com/product/super-sf9-2-cells/', 'Category': ' Insect Cells', 'Title': 'superSf9-2 Cells', 'Image_1': 'https://oetltd.com/wp-content/uploads/2015/02/Super-Sf9-2-Vials.jpg', 'Description': 'superSf9-2 insect cells (cat# 600103) are derived from the Spodoptera frugiperda (Sf9) cell line and are engineered for the enhanced expression of highly unstable or toxic proteins. The original Sf9 cell line has become the primary choice for baculovirus expression systems, being used worldwide for the production of recombinant viruses and expresion of proteins. superSf9-2 cells are able to offer a very high expression level over a short period of time following baculovirus infection. This can help to increase the yield of proteins that are more prone to degredation or those that can become toxic to cell health and viability. superSf9-2 cells are adapted to serum free suspension culture in Sf-900™ II media but are capable of conforming to other suitable media types. The insect cells can easily be cultured as monolayer cultures in T-flasks, suspension cultures in shake flasks, or scaled up for use in bioreactors.The cells are prepared from low passage cells (<20 passages in Sf-900™ II medium) and supplied in a cryogenic vial containing 1×107 cells. Freezing medium is comprised of 50% fresh serum free medium, 50% conditioned serum free medium and Dimethyl Sulfoxide (DMSO) to a final concentration of 7.5%.Please note this product ships on dry ice so additional shipping charges may apply.', 'superSf9 Cells MSDS': 'https://oetltd.com/wp-content/uploads/2015/02/Super-Sf9-Cells-1-3-MSDS.pdf', 'OET Insect Cell Culture Manual': 'https://oetltd.com/wp-content/uploads/2019/01/Insect-Cell-Culture-Guide-2020-21.pdf', 'superSf9 Insect Cell User Guide': 'https://oetltd.com/wp-content/uploads/2015/02/superSf9-Insect-Cell-User-Guide.pdf'}\n",
      "*****************************\n",
      "process 19 completed\n",
      "{'SKU': '600102', 'Price': '£609.00', 'Quantity': 1, 'URL': 'https://oetltd.com/product/super-sf9-1-cells/', 'Category': ' Insect Cells', 'Title': 'superSf9-1 Cells', 'Image_1': 'https://oetltd.com/wp-content/uploads/2015/02/Super-Sf9-1-Vials.jpg', 'Description': 'superSf9-1 insect cells (cat# 600102) are derived from the Spodoptera frugiperda (Sf9) cell line and are engineered for the enhanced expression of highly stable intracellular and secreted proteins. The original Sf9 cell line has become the primary choice for baculovirus expression systems, being used worldwide for the production of recombinant viruses and expresion of proteins. superSf9-1 cells are able to offer a prolonged expression time following baculovirus infection. This can help to increase the yield of more stable intracellular, membrane and secreted proteins by up to 15-fold, provided that they are not subject to degredation. superSf9-1 cells are adapted to serum free suspension culture in Sf-900™ II media but are capable of conforming to other suitable media types. The insect cells can easily be cultured as monolayer cultures in T-flasks, suspension cultures in shake flasks, or scaled up for use in bioreactors.The cells are prepared from low passage cells (<20 passages in Sf-900™ II medium) and supplied in a cryogenic vial containing 1×107 cells. Freezing medium is comprised of 50% fresh serum free medium, 50% conditioned serum free medium and Dimethyl Sulfoxide (DMSO) to a final concentration of 7.5%.Please note this product ships on dry ice so additional shipping charges may apply.', 'superSf9 Cells MSDS': 'https://oetltd.com/wp-content/uploads/2015/02/Super-Sf9-Cells-1-3-MSDS.pdf', 'OET Insect Cell Culture Manual': 'https://oetltd.com/wp-content/uploads/2019/01/Insect-Cell-Culture-Guide-2020-21.pdf', 'superSf9 Insect Cell User Guide': 'https://oetltd.com/wp-content/uploads/2015/02/superSf9-Insect-Cell-User-Guide.pdf'}\n",
      "*****************************\n",
      "process 20 completed\n",
      "{'SKU': '600100', 'Price': '£195.00', 'Quantity': 1, 'URL': 'https://oetltd.com/product/sf9-cells/', 'Category': ' Insect Cells', 'Title': 'Sf9 Cells', 'Image_1': 'https://oetltd.com/wp-content/uploads/2015/02/Sf9-Vials.jpg', 'Description': 'Sf9 insect cells (cat# 600100) have become the workhorse of the baculovirus expression system, being used worldwide for the production of recombinant viruses and expression proteins. Sf9 cells are a clonal isolate from Spodoptera frugiperda (Fall armyworm) IPLB-Sf21-AE cells. The Sf9 cells are adapted to serum free suspension culture in ESF 921™ media but are capable of conforming to other suitable media types. The cells can be used for transient or stable expression of recombinant proteins; as monolayers for transfection and production of recombinant baculovirus; or for the propagation of baculovirus stocks. Sf9 insect cells can easily be cultured as monolayer cultures in T-flasks, suspension cultures in shake flasks, or scaled up for use in bioreactors.The cells are prepared from low passage cells (<30 passages in ESF 921™ medium) and supplied in a cryogenic vial containing 1×107 cells. Freezing medium is comprised of 50% fresh serum free medium, 50% conditioned serum free medium and Dimethyl Sulfoxide (DMSO) to a final concentration of 10%.Please note this product ships on dry ice so additional shipping charges may apply.', 'Sf9 Cells MSDS': 'https://oetltd.com/wp-content/uploads/2015/02/Sf9-Cells-MSDS.pdf', 'OET Insect Cell Culture Manual': 'https://oetltd.com/wp-content/uploads/2019/01/Insect-Cell-Culture-Guide-2020-21.pdf', 'Sf9 Cells User Guide': 'https://oetltd.com/wp-content/uploads/2015/02/Sf9-Insect-Cell-User-Guide.pdf'}\n",
      "*****************************\n",
      "process 21 completed\n"
     ]
    },
    {
     "name": "stdout",
     "output_type": "stream",
     "text": [
      "{'SKU': '500400', 'Price': '60', 'Quantity': '1L, 5 x 1L, 10 x 1L, 3 x 1L\\n', 'URL': 'https://oetltd.com/product/esf-af/', 'Category': ' Expression Systems Insect Cell Culture Media', 'Tags': ' insect cell media, insect culture media, insect growth media, insect media', 'Title': 'ESF AF (Animal Free)', 'Image_1': 'https://oetltd.com/wp-content/uploads/2015/10/ESF-AF.png', 'Description': 'Expression Systems LLC ESF AF (Animal Free) (cat# 500400-500404) is an animal origin-free formulation designed for excellent cell growth of a wide range of insect cells including Spodoptera frugiperda (Sf9, Sf21),\\xa0Trichoplusia ni (T.ni or Hi5) and\\xa0Drosophila\\xa0S2.\\xa0ESF AF enables maximum expression for applications such as production of sub-unit vaccines, virus-like particles and gene therapy vectors. It is the logical choice for further manufacturing under cGMP/FDA regulatory compliance.Benefits of using ESF AF include:Produces high titer baculovirus vector yieldsCompatible with all OET’s flashBAC™ technology but also other BEV platformsComplete, ready-to-use – no additional reagents requiredIdeal for both small and large scale manufacturing of insect cellsAlready existing cell cultures can be easily adapted**Please be aware that the standard lead time for this product is 1-3 weeks.', 'ESF Animal Free (AF) MSDS': 'https://oetltd.com/wp-content/uploads/2015/10/ESF-921-Animal-Free-AF-MSDS.pdf', 'ESF Animal Free (AF) Certificate of Origin': 'https://oetltd.com/wp-content/uploads/2015/10/ESF-Animal-Free-AF-Media-Certificate-of-Origin.pdf'}\n",
      "*****************************\n",
      "process 22 completed\n",
      "{'SKU': '500401', 'Price': '175', 'Quantity': '1L, 5 x 1L, 10 x 1L, 3 x 1L\\n', 'URL': 'https://oetltd.com/product/esf-af/', 'Category': ' Expression Systems Insect Cell Culture Media', 'Tags': ' insect cell media, insect culture media, insect growth media, insect media', 'Title': 'ESF AF (Animal Free)', 'Image_1': 'https://oetltd.com/wp-content/uploads/2015/10/ESF-AF.png', 'Description': 'Expression Systems LLC ESF AF (Animal Free) (cat# 500400-500404) is an animal origin-free formulation designed for excellent cell growth of a wide range of insect cells including Spodoptera frugiperda (Sf9, Sf21),\\xa0Trichoplusia ni (T.ni or Hi5) and\\xa0Drosophila\\xa0S2.\\xa0ESF AF enables maximum expression for applications such as production of sub-unit vaccines, virus-like particles and gene therapy vectors. It is the logical choice for further manufacturing under cGMP/FDA regulatory compliance.Benefits of using ESF AF include:Produces high titer baculovirus vector yieldsCompatible with all OET’s flashBAC™ technology but also other BEV platformsComplete, ready-to-use – no additional reagents requiredIdeal for both small and large scale manufacturing of insect cellsAlready existing cell cultures can be easily adapted**Please be aware that the standard lead time for this product is 1-3 weeks.', 'ESF Animal Free (AF) MSDS': 'https://oetltd.com/wp-content/uploads/2015/10/ESF-921-Animal-Free-AF-MSDS.pdf', 'ESF Animal Free (AF) Certificate of Origin': 'https://oetltd.com/wp-content/uploads/2015/10/ESF-Animal-Free-AF-Media-Certificate-of-Origin.pdf'}\n",
      "*****************************\n",
      "process 22 completed\n",
      "{'SKU': '500402', 'Price': '269', 'Quantity': '1L, 5 x 1L, 10 x 1L, 3 x 1L\\n', 'URL': 'https://oetltd.com/product/esf-af/', 'Category': ' Expression Systems Insect Cell Culture Media', 'Tags': ' insect cell media, insect culture media, insect growth media, insect media', 'Title': 'ESF AF (Animal Free)', 'Image_1': 'https://oetltd.com/wp-content/uploads/2015/10/ESF-AF.png', 'Description': 'Expression Systems LLC ESF AF (Animal Free) (cat# 500400-500404) is an animal origin-free formulation designed for excellent cell growth of a wide range of insect cells including Spodoptera frugiperda (Sf9, Sf21),\\xa0Trichoplusia ni (T.ni or Hi5) and\\xa0Drosophila\\xa0S2.\\xa0ESF AF enables maximum expression for applications such as production of sub-unit vaccines, virus-like particles and gene therapy vectors. It is the logical choice for further manufacturing under cGMP/FDA regulatory compliance.Benefits of using ESF AF include:Produces high titer baculovirus vector yieldsCompatible with all OET’s flashBAC™ technology but also other BEV platformsComplete, ready-to-use – no additional reagents requiredIdeal for both small and large scale manufacturing of insect cellsAlready existing cell cultures can be easily adapted**Please be aware that the standard lead time for this product is 1-3 weeks.', 'ESF Animal Free (AF) MSDS': 'https://oetltd.com/wp-content/uploads/2015/10/ESF-921-Animal-Free-AF-MSDS.pdf', 'ESF Animal Free (AF) Certificate of Origin': 'https://oetltd.com/wp-content/uploads/2015/10/ESF-Animal-Free-AF-Media-Certificate-of-Origin.pdf'}\n",
      "*****************************\n",
      "process 22 completed\n",
      "{'SKU': '500403', 'Price': '460', 'Quantity': '1L, 5 x 1L, 10 x 1L, 3 x 1L\\n', 'URL': 'https://oetltd.com/product/esf-af/', 'Category': ' Expression Systems Insect Cell Culture Media', 'Tags': ' insect cell media, insect culture media, insect growth media, insect media', 'Title': 'ESF AF (Animal Free)', 'Image_1': 'https://oetltd.com/wp-content/uploads/2015/10/ESF-AF.png', 'Description': 'Expression Systems LLC ESF AF (Animal Free) (cat# 500400-500404) is an animal origin-free formulation designed for excellent cell growth of a wide range of insect cells including Spodoptera frugiperda (Sf9, Sf21),\\xa0Trichoplusia ni (T.ni or Hi5) and\\xa0Drosophila\\xa0S2.\\xa0ESF AF enables maximum expression for applications such as production of sub-unit vaccines, virus-like particles and gene therapy vectors. It is the logical choice for further manufacturing under cGMP/FDA regulatory compliance.Benefits of using ESF AF include:Produces high titer baculovirus vector yieldsCompatible with all OET’s flashBAC™ technology but also other BEV platformsComplete, ready-to-use – no additional reagents requiredIdeal for both small and large scale manufacturing of insect cellsAlready existing cell cultures can be easily adapted**Please be aware that the standard lead time for this product is 1-3 weeks.', 'ESF Animal Free (AF) MSDS': 'https://oetltd.com/wp-content/uploads/2015/10/ESF-921-Animal-Free-AF-MSDS.pdf', 'ESF Animal Free (AF) Certificate of Origin': 'https://oetltd.com/wp-content/uploads/2015/10/ESF-Animal-Free-AF-Media-Certificate-of-Origin.pdf'}\n",
      "*****************************\n",
      "process 22 completed\n",
      "{'SKU': '500311', 'Price': '£85.00', 'Quantity': 1, 'URL': 'https://oetltd.com/product/esf-921-delta-series-all-amino-acid-deficient/', 'Category': ' Expression Systems Insect Cell Culture Media', 'Tags': ' insect cell media, insect culture media, insect growth media, insect media', 'Title': 'ESF 921 Delta Series All Amino Acid Deficient (1L)', 'Image_1': 'https://oetltd.com/wp-content/uploads/2015/09/ESF-921-Delta-Series.png', 'Description': 'Expression Systems LLC ESF 921 Delta Series All Amino Acid Deficient (cat# 500311) insect cell culture media is based on the popular ESF 921™ medium which provides excellent growth for a wide variety of insect cells. The amino acid deficient media allows the addition of isotopically-labelled amino acids for the analysis of protein structure and dynamics. This item comes with the option for the inclusion or PYE (polished yeast extract) or modified-low PYE.\\xa0 The modified-low PYE has less hydrolysate which can help to reduce unincorporated amino acids.Benefits of using ESF 921 Delta Series All Amino Acid Deficient include:Produces high titer baculovirus vector yieldsCompatible with all OET’s flashBAC™ technology but also other BEV platformsComplete, ready-to-use – no additional reagents requiredIdeal for both small and large scale manufacturing of insect cells**Please be aware that the standard lead time for this product is 1-3 weeks.', 'ESF 921 All Amino Acid Deficient MSDS': 'https://oetltd.com/wp-content/uploads/2015/09/ESF-921-All-Amino-Acid-Deficient-MSDS-1.pdf', 'ESF 921 All Amino Acid Deficient Certificate of Origin': 'https://oetltd.com/wp-content/uploads/2015/09/ESF-921-All-Amino-Acid-Deficient-Media-Certificate-of-Origin.pdf'}\n",
      "*****************************\n",
      "process 24 completed\n",
      "{'SKU': '500307', 'Price': '£50.00', 'Quantity': 1, 'URL': 'https://oetltd.com/product/production-boost-additive/', 'Category': ' Expression Systems Insect Cell Culture Media', 'Title': 'Production Boost Additive (100ml)', 'Image_1': 'https://oetltd.com/wp-content/uploads/2015/09/Production-Boost-Additive.png', 'Image_2': 'https://oetltd.com/wp-content/uploads/2015/09/Production-Boost-Additive-Graph-100x100.png', 'Description': 'Expression Systems LLC Production Boost Additive (cat# 500307) is a nutrient boost designed to increase protein expression by supporting the increased needs of insect cells infected by recombinant baculovirus. Production Boost Additive is a serum-free, animal-free formulation that works to extend the late and very-late expression period of production by maintaining high culture viability. The reagent works seamlessly with ESF 921™ and ESF AF insect cell culture media and is suitable for a wide range of insect cells including Spodoptera frugiperda (Sf9, Sf21),\\xa0Trichoplusia ni (T.ni or Hi5) and\\xa0Drosophila\\xa0S2.**Please be aware that the standard lead time for this product is 1-3 weeks.', 'Production Boost Additive MSDS': 'https://oetltd.com/wp-content/uploads/2015/09/Production-Boost-Additive-MSDS-1.pdf', 'Production Boost Additive Certificate of Origin': 'https://oetltd.com/wp-content/uploads/2015/09/Production-Boost-Additive-Certificate-of-Origin.pdf'}\n",
      "*****************************\n",
      "process 25 completed\n"
     ]
    },
    {
     "name": "stdout",
     "output_type": "stream",
     "text": [
      "{'SKU': '500310', 'Price': '£75.00', 'Quantity': 1, 'URL': 'https://oetltd.com/product/esf-921-delta-series-methionine-deficient/', 'Category': ' Expression Systems Insect Cell Culture Media', 'Tags': ' insect cell media, insect culture media, insect growth media, insect media', 'Title': 'ESF 921 Delta Series Methionine Deficient (1L)', 'Image_1': 'https://oetltd.com/wp-content/uploads/2015/09/ESF-921-Delta-Series.png', 'Description': 'Expression Systems LLC ESF 921 Delta Series Methionine Deficient (cat# 500310) insect cell culture media is based on the popular ESF 921™ medium which provides excellent growth for a wide variety of insect cells. The methionine deficient media allows the addition of methionine amino acids to target proteins for observing protein structure and dynamics. Methionine incorporation with this medium can range from 70-100%.Benefits of using ESF 921 Delta Series Methionine Deficient include:Produces high titer baculovirus vector yieldsCompatible with all OET’s\\xa0flashBAC™ technology but also other BEV platformsComplete, ready-to-use – no additional reagents requiredIdeal for both small and large scale manufacturing of insect cells**Please be aware that the standard lead time for this product is 1-3 weeks.', 'ESF 921 Methionine Deficient MSDS': 'https://oetltd.com/wp-content/uploads/2015/09/ESF-921-Methionine-Deficient-MSDS-1.pdf', 'ESF 921 Methionine Deficient Certificate of Origin': 'https://oetltd.com/wp-content/uploads/2015/09/ESF-921-Methionine-Deficient-Media-Certificate-of-Origin.pdf'}\n",
      "*****************************\n",
      "process 26 completed\n",
      "{'SKU': '500300', 'Price': '55', 'Quantity': '1L, 5 x 1L, 10 x 1L, 3 x 1L\\n', 'URL': 'https://oetltd.com/product/esf-921/', 'Category': ' Expression Systems Insect Cell Culture Media', 'Tags': ' insect cell media, insect culture media, insect growth media, insect media', 'Title': 'ESF 921 Insect Cell Media', 'Image_1': 'https://oetltd.com/wp-content/uploads/2015/06/ESF-921.png', 'Image_2': 'https://oetltd.com/wp-content/uploads/2015/06/ESF-921-Growth-Graph-100x100.png', 'Description': 'Expression Systems LLC ESF 921 ™ Insect Cell Culture Media (cat# 500300-500305) is designed for maximum virus and protein expression. This serum-free, protein-free insect cell culture medium provides excellent cell growth for a wide range of insect cells including Spodoptera frugiperda (Sf9, Sf21), Trichoplusia ni (T.ni or Hi5) and Drosophila S2. ESF 921 ™\\xa0Insect Cell Culture Medium enables maximum expression for applications such as gene therapy drug substance, virus-like particles, virus vectors and proteins of interest.Benefits of using ESF 921™ include:Produces high titre baculovirus vector yieldsCompatible with all OET’s flashBAC™ technology but also other BEV platformsComplete, ready-to-use – no additional reagents requiredIdeal for both small and large scale manufacturing of insect cellsAlready existing cell cultures can be easily adapted\\xa0', 'ESF 921 MSDS': 'https://oetltd.com/wp-content/uploads/2015/06/ESF-921-MSDS-1.pdf', 'ESF 921 Certificate of Origin': 'https://oetltd.com/wp-content/uploads/2015/09/ESF-921-Media-Certificate-of-Origin.pdf'}\n",
      "*****************************\n",
      "process 27 completed\n",
      "{'SKU': '500301', 'Price': '159', 'Quantity': '1L, 5 x 1L, 10 x 1L, 3 x 1L\\n', 'URL': 'https://oetltd.com/product/esf-921/', 'Category': ' Expression Systems Insect Cell Culture Media', 'Tags': ' insect cell media, insect culture media, insect growth media, insect media', 'Title': 'ESF 921 Insect Cell Media', 'Image_1': 'https://oetltd.com/wp-content/uploads/2015/06/ESF-921.png', 'Image_2': 'https://oetltd.com/wp-content/uploads/2015/06/ESF-921-Growth-Graph-100x100.png', 'Description': 'Expression Systems LLC ESF 921 ™ Insect Cell Culture Media (cat# 500300-500305) is designed for maximum virus and protein expression. This serum-free, protein-free insect cell culture medium provides excellent cell growth for a wide range of insect cells including Spodoptera frugiperda (Sf9, Sf21), Trichoplusia ni (T.ni or Hi5) and Drosophila S2. ESF 921 ™\\xa0Insect Cell Culture Medium enables maximum expression for applications such as gene therapy drug substance, virus-like particles, virus vectors and proteins of interest.Benefits of using ESF 921™ include:Produces high titre baculovirus vector yieldsCompatible with all OET’s flashBAC™ technology but also other BEV platformsComplete, ready-to-use – no additional reagents requiredIdeal for both small and large scale manufacturing of insect cellsAlready existing cell cultures can be easily adapted\\xa0', 'ESF 921 MSDS': 'https://oetltd.com/wp-content/uploads/2015/06/ESF-921-MSDS-1.pdf', 'ESF 921 Certificate of Origin': 'https://oetltd.com/wp-content/uploads/2015/09/ESF-921-Media-Certificate-of-Origin.pdf'}\n",
      "*****************************\n",
      "process 27 completed\n",
      "{'SKU': '500302', 'Price': '250', 'Quantity': '1L, 5 x 1L, 10 x 1L, 3 x 1L\\n', 'URL': 'https://oetltd.com/product/esf-921/', 'Category': ' Expression Systems Insect Cell Culture Media', 'Tags': ' insect cell media, insect culture media, insect growth media, insect media', 'Title': 'ESF 921 Insect Cell Media', 'Image_1': 'https://oetltd.com/wp-content/uploads/2015/06/ESF-921.png', 'Image_2': 'https://oetltd.com/wp-content/uploads/2015/06/ESF-921-Growth-Graph-100x100.png', 'Description': 'Expression Systems LLC ESF 921 ™ Insect Cell Culture Media (cat# 500300-500305) is designed for maximum virus and protein expression. This serum-free, protein-free insect cell culture medium provides excellent cell growth for a wide range of insect cells including Spodoptera frugiperda (Sf9, Sf21), Trichoplusia ni (T.ni or Hi5) and Drosophila S2. ESF 921 ™\\xa0Insect Cell Culture Medium enables maximum expression for applications such as gene therapy drug substance, virus-like particles, virus vectors and proteins of interest.Benefits of using ESF 921™ include:Produces high titre baculovirus vector yieldsCompatible with all OET’s flashBAC™ technology but also other BEV platformsComplete, ready-to-use – no additional reagents requiredIdeal for both small and large scale manufacturing of insect cellsAlready existing cell cultures can be easily adapted\\xa0', 'ESF 921 MSDS': 'https://oetltd.com/wp-content/uploads/2015/06/ESF-921-MSDS-1.pdf', 'ESF 921 Certificate of Origin': 'https://oetltd.com/wp-content/uploads/2015/09/ESF-921-Media-Certificate-of-Origin.pdf'}\n",
      "*****************************\n",
      "process 27 completed\n",
      "{'SKU': '500304', 'Price': '475', 'Quantity': '1L, 5 x 1L, 10 x 1L, 3 x 1L\\n', 'URL': 'https://oetltd.com/product/esf-921/', 'Category': ' Expression Systems Insect Cell Culture Media', 'Tags': ' insect cell media, insect culture media, insect growth media, insect media', 'Title': 'ESF 921 Insect Cell Media', 'Image_1': 'https://oetltd.com/wp-content/uploads/2015/06/ESF-921.png', 'Image_2': 'https://oetltd.com/wp-content/uploads/2015/06/ESF-921-Growth-Graph-100x100.png', 'Description': 'Expression Systems LLC ESF 921 ™ Insect Cell Culture Media (cat# 500300-500305) is designed for maximum virus and protein expression. This serum-free, protein-free insect cell culture medium provides excellent cell growth for a wide range of insect cells including Spodoptera frugiperda (Sf9, Sf21), Trichoplusia ni (T.ni or Hi5) and Drosophila S2. ESF 921 ™\\xa0Insect Cell Culture Medium enables maximum expression for applications such as gene therapy drug substance, virus-like particles, virus vectors and proteins of interest.Benefits of using ESF 921™ include:Produces high titre baculovirus vector yieldsCompatible with all OET’s flashBAC™ technology but also other BEV platformsComplete, ready-to-use – no additional reagents requiredIdeal for both small and large scale manufacturing of insect cellsAlready existing cell cultures can be easily adapted\\xa0', 'ESF 921 MSDS': 'https://oetltd.com/wp-content/uploads/2015/06/ESF-921-MSDS-1.pdf', 'ESF 921 Certificate of Origin': 'https://oetltd.com/wp-content/uploads/2015/09/ESF-921-Media-Certificate-of-Origin.pdf'}\n",
      "*****************************\n",
      "process 27 completed\n",
      "{'SKU': '600105', 'Price': '£195.00', 'Quantity': 1, 'URL': 'https://oetltd.com/product/sf21-cells/', 'Category': ' Insect Cells', 'Title': 'Sf21 Cells', 'Image_1': 'https://oetltd.com/wp-content/uploads/2015/07/Sf21-Cells.jpg', 'Description': 'Sf21 insect cells (IPLB-Sf21-AE) (cat# 600105) are derived from pupal ovarian tissues of Spodoptera frugiperda (Fall armyworm). The Sf21 cell line is a suitable host for transient or stable expression of recombinant proteins using baculovirus expression vectors, propagation of baculovirus stocks, and plaque assays to accurately determine AcMNPV virus titre. They are also ideal for monitoring cytopathic effects and are more tolerant to sub-optimal growth conditions. The insect cells are adapted to growth in serum-containing medium such as TC-100 supplemented with 10% FBS. They can easily be cultured as monolayer cultures in T-flasks or in stirred culture flasks.The cells are prepared from low passage cells (<30 passages) and supplied in a cryogenic vial containing 1 x 107\\xa0cells. Freezing medium is comprised of 50% fresh serum supplemented medium, 50% conditioned serum supplemented medium and Dimethyl Sulfoxide (DMSO) to a final concentration of 10%.Please note this product ships on dry ice so additional shipping charges may apply.', 'Sf21 Cells MSDS': 'https://oetltd.com/wp-content/uploads/2015/07/Sf21-Cells-MSDS.pdf', 'OET Insect Cell Culture User Guide': 'https://oetltd.com/wp-content/uploads/2019/01/Insect-Cell-Culture-Guide-2020-21.pdf', 'Sf21 Insect Cell User Guide': 'https://oetltd.com/wp-content/uploads/2015/07/Sf21-Insect-Cell-User-Guide.pdf'}\n",
      "*****************************\n",
      "process 28 completed\n"
     ]
    },
    {
     "name": "stdout",
     "output_type": "stream",
     "text": [
      "{'SKU': '600104', 'Price': '£609.00', 'Quantity': 1, 'URL': 'https://oetltd.com/product/super-sf9-3-cells/', 'Category': ' Insect Cells', 'Title': 'superSf9-3 Cells', 'Image_1': 'https://oetltd.com/wp-content/uploads/2015/02/Super-Sf9-3-Vials.jpg', 'Description': 'superSf9-3 insect cells (cat# 600104) are derived from the Spodoptera frugiperda (Sf9) cell line and are engineered for the enhanced expression of most recombinant proteins. The original Sf9 cell line has become the primary choice for baculovirus expression systems, being used worldwide for the production of recombinant viruses and expresion of proteins. superSf9-3 cells are able to offer a high general expression of a variety of recombinant proteins. This can help to increase the yield of recombinant proteins with mixed characteristics but also those with unknown toxicity and stability. superSf9-3 cells are adapted to serum free suspension culture in Sf-900™ II media but are capable of conforming to other suitable media types. The insect cells can easily be cultured as monolayer cultures in T-flasks, suspension cultures in shake flasks, or scaled up for use in bioreactors.The cells are prepared from low passage cells (<20 passages in Sf-900™ II medium) and supplied in a cryogenic vial containing 1×107\\xa0cells. Freezing medium is comprised of 50% fresh serum free medium, 50% conditioned serum free medium and Dimethyl Sulfoxide (DMSO) to a final concentration of 7.5%.Please note this product ships on dry ice so additional shipping charges may apply.', 'superSf9 Cells MSDS': 'https://oetltd.com/wp-content/uploads/2015/02/Super-Sf9-Cells-1-3-MSDS.pdf', 'OET Insect Cell Culture Manual': 'https://oetltd.com/wp-content/uploads/2019/01/Insect-Cell-Culture-Guide-2020-21.pdf', 'superSf9 Insect Cell User Guide': 'https://oetltd.com/wp-content/uploads/2015/02/superSf9-Insect-Cell-User-Guide.pdf'}\n",
      "*****************************\n",
      "process 29 completed\n",
      "{'SKU': '600103', 'Price': '£609.00', 'Quantity': 1, 'URL': 'https://oetltd.com/product/super-sf9-2-cells/', 'Category': ' Insect Cells', 'Title': 'superSf9-2 Cells', 'Image_1': 'https://oetltd.com/wp-content/uploads/2015/02/Super-Sf9-2-Vials.jpg', 'Description': 'superSf9-2 insect cells (cat# 600103) are derived from the Spodoptera frugiperda (Sf9) cell line and are engineered for the enhanced expression of highly unstable or toxic proteins. The original Sf9 cell line has become the primary choice for baculovirus expression systems, being used worldwide for the production of recombinant viruses and expresion of proteins. superSf9-2 cells are able to offer a very high expression level over a short period of time following baculovirus infection. This can help to increase the yield of proteins that are more prone to degredation or those that can become toxic to cell health and viability. superSf9-2 cells are adapted to serum free suspension culture in Sf-900™ II media but are capable of conforming to other suitable media types. The insect cells can easily be cultured as monolayer cultures in T-flasks, suspension cultures in shake flasks, or scaled up for use in bioreactors.The cells are prepared from low passage cells (<20 passages in Sf-900™ II medium) and supplied in a cryogenic vial containing 1×107 cells. Freezing medium is comprised of 50% fresh serum free medium, 50% conditioned serum free medium and Dimethyl Sulfoxide (DMSO) to a final concentration of 7.5%.Please note this product ships on dry ice so additional shipping charges may apply.', 'superSf9 Cells MSDS': 'https://oetltd.com/wp-content/uploads/2015/02/Super-Sf9-Cells-1-3-MSDS.pdf', 'OET Insect Cell Culture Manual': 'https://oetltd.com/wp-content/uploads/2019/01/Insect-Cell-Culture-Guide-2020-21.pdf', 'superSf9 Insect Cell User Guide': 'https://oetltd.com/wp-content/uploads/2015/02/superSf9-Insect-Cell-User-Guide.pdf'}\n",
      "*****************************\n",
      "process 30 completed\n",
      "{'SKU': '600102', 'Price': '£609.00', 'Quantity': 1, 'URL': 'https://oetltd.com/product/super-sf9-1-cells/', 'Category': ' Insect Cells', 'Title': 'superSf9-1 Cells', 'Image_1': 'https://oetltd.com/wp-content/uploads/2015/02/Super-Sf9-1-Vials.jpg', 'Description': 'superSf9-1 insect cells (cat# 600102) are derived from the Spodoptera frugiperda (Sf9) cell line and are engineered for the enhanced expression of highly stable intracellular and secreted proteins. The original Sf9 cell line has become the primary choice for baculovirus expression systems, being used worldwide for the production of recombinant viruses and expresion of proteins. superSf9-1 cells are able to offer a prolonged expression time following baculovirus infection. This can help to increase the yield of more stable intracellular, membrane and secreted proteins by up to 15-fold, provided that they are not subject to degredation. superSf9-1 cells are adapted to serum free suspension culture in Sf-900™ II media but are capable of conforming to other suitable media types. The insect cells can easily be cultured as monolayer cultures in T-flasks, suspension cultures in shake flasks, or scaled up for use in bioreactors.The cells are prepared from low passage cells (<20 passages in Sf-900™ II medium) and supplied in a cryogenic vial containing 1×107 cells. Freezing medium is comprised of 50% fresh serum free medium, 50% conditioned serum free medium and Dimethyl Sulfoxide (DMSO) to a final concentration of 7.5%.Please note this product ships on dry ice so additional shipping charges may apply.', 'superSf9 Cells MSDS': 'https://oetltd.com/wp-content/uploads/2015/02/Super-Sf9-Cells-1-3-MSDS.pdf', 'OET Insect Cell Culture Manual': 'https://oetltd.com/wp-content/uploads/2019/01/Insect-Cell-Culture-Guide-2020-21.pdf', 'superSf9 Insect Cell User Guide': 'https://oetltd.com/wp-content/uploads/2015/02/superSf9-Insect-Cell-User-Guide.pdf'}\n",
      "*****************************\n",
      "process 31 completed\n",
      "{'SKU': '600100', 'Price': '£195.00', 'Quantity': 1, 'URL': 'https://oetltd.com/product/sf9-cells/', 'Category': ' Insect Cells', 'Title': 'Sf9 Cells', 'Image_1': 'https://oetltd.com/wp-content/uploads/2015/02/Sf9-Vials.jpg', 'Description': 'Sf9 insect cells (cat# 600100) have become the workhorse of the baculovirus expression system, being used worldwide for the production of recombinant viruses and expression proteins. Sf9 cells are a clonal isolate from Spodoptera frugiperda (Fall armyworm) IPLB-Sf21-AE cells. The Sf9 cells are adapted to serum free suspension culture in ESF 921™ media but are capable of conforming to other suitable media types. The cells can be used for transient or stable expression of recombinant proteins; as monolayers for transfection and production of recombinant baculovirus; or for the propagation of baculovirus stocks. Sf9 insect cells can easily be cultured as monolayer cultures in T-flasks, suspension cultures in shake flasks, or scaled up for use in bioreactors.The cells are prepared from low passage cells (<30 passages in ESF 921™ medium) and supplied in a cryogenic vial containing 1×107 cells. Freezing medium is comprised of 50% fresh serum free medium, 50% conditioned serum free medium and Dimethyl Sulfoxide (DMSO) to a final concentration of 10%.Please note this product ships on dry ice so additional shipping charges may apply.', 'Sf9 Cells MSDS': 'https://oetltd.com/wp-content/uploads/2015/02/Sf9-Cells-MSDS.pdf', 'OET Insect Cell Culture Manual': 'https://oetltd.com/wp-content/uploads/2019/01/Insect-Cell-Culture-Guide-2020-21.pdf', 'Sf9 Cells User Guide': 'https://oetltd.com/wp-content/uploads/2015/02/Sf9-Insect-Cell-User-Guide.pdf'}\n",
      "*****************************\n",
      "process 32 completed\n",
      "{'SKU': '500400', 'Price': '60', 'Quantity': '1L, 5 x 1L, 10 x 1L, 3 x 1L\\n', 'URL': 'https://oetltd.com/product/esf-af/', 'Category': ' Expression Systems Insect Cell Culture Media', 'Tags': ' insect cell media, insect culture media, insect growth media, insect media', 'Title': 'ESF AF (Animal Free)', 'Image_1': 'https://oetltd.com/wp-content/uploads/2015/10/ESF-AF.png', 'Description': 'Expression Systems LLC ESF AF (Animal Free) (cat# 500400-500404) is an animal origin-free formulation designed for excellent cell growth of a wide range of insect cells including Spodoptera frugiperda (Sf9, Sf21),\\xa0Trichoplusia ni (T.ni or Hi5) and\\xa0Drosophila\\xa0S2.\\xa0ESF AF enables maximum expression for applications such as production of sub-unit vaccines, virus-like particles and gene therapy vectors. It is the logical choice for further manufacturing under cGMP/FDA regulatory compliance.Benefits of using ESF AF include:Produces high titer baculovirus vector yieldsCompatible with all OET’s flashBAC™ technology but also other BEV platformsComplete, ready-to-use – no additional reagents requiredIdeal for both small and large scale manufacturing of insect cellsAlready existing cell cultures can be easily adapted**Please be aware that the standard lead time for this product is 1-3 weeks.', 'ESF Animal Free (AF) MSDS': 'https://oetltd.com/wp-content/uploads/2015/10/ESF-921-Animal-Free-AF-MSDS.pdf', 'ESF Animal Free (AF) Certificate of Origin': 'https://oetltd.com/wp-content/uploads/2015/10/ESF-Animal-Free-AF-Media-Certificate-of-Origin.pdf'}\n",
      "*****************************\n",
      "process 33 completed\n",
      "{'SKU': '500401', 'Price': '175', 'Quantity': '1L, 5 x 1L, 10 x 1L, 3 x 1L\\n', 'URL': 'https://oetltd.com/product/esf-af/', 'Category': ' Expression Systems Insect Cell Culture Media', 'Tags': ' insect cell media, insect culture media, insect growth media, insect media', 'Title': 'ESF AF (Animal Free)', 'Image_1': 'https://oetltd.com/wp-content/uploads/2015/10/ESF-AF.png', 'Description': 'Expression Systems LLC ESF AF (Animal Free) (cat# 500400-500404) is an animal origin-free formulation designed for excellent cell growth of a wide range of insect cells including Spodoptera frugiperda (Sf9, Sf21),\\xa0Trichoplusia ni (T.ni or Hi5) and\\xa0Drosophila\\xa0S2.\\xa0ESF AF enables maximum expression for applications such as production of sub-unit vaccines, virus-like particles and gene therapy vectors. It is the logical choice for further manufacturing under cGMP/FDA regulatory compliance.Benefits of using ESF AF include:Produces high titer baculovirus vector yieldsCompatible with all OET’s flashBAC™ technology but also other BEV platformsComplete, ready-to-use – no additional reagents requiredIdeal for both small and large scale manufacturing of insect cellsAlready existing cell cultures can be easily adapted**Please be aware that the standard lead time for this product is 1-3 weeks.', 'ESF Animal Free (AF) MSDS': 'https://oetltd.com/wp-content/uploads/2015/10/ESF-921-Animal-Free-AF-MSDS.pdf', 'ESF Animal Free (AF) Certificate of Origin': 'https://oetltd.com/wp-content/uploads/2015/10/ESF-Animal-Free-AF-Media-Certificate-of-Origin.pdf'}\n",
      "*****************************\n",
      "process 33 completed\n",
      "{'SKU': '500402', 'Price': '269', 'Quantity': '1L, 5 x 1L, 10 x 1L, 3 x 1L\\n', 'URL': 'https://oetltd.com/product/esf-af/', 'Category': ' Expression Systems Insect Cell Culture Media', 'Tags': ' insect cell media, insect culture media, insect growth media, insect media', 'Title': 'ESF AF (Animal Free)', 'Image_1': 'https://oetltd.com/wp-content/uploads/2015/10/ESF-AF.png', 'Description': 'Expression Systems LLC ESF AF (Animal Free) (cat# 500400-500404) is an animal origin-free formulation designed for excellent cell growth of a wide range of insect cells including Spodoptera frugiperda (Sf9, Sf21),\\xa0Trichoplusia ni (T.ni or Hi5) and\\xa0Drosophila\\xa0S2.\\xa0ESF AF enables maximum expression for applications such as production of sub-unit vaccines, virus-like particles and gene therapy vectors. It is the logical choice for further manufacturing under cGMP/FDA regulatory compliance.Benefits of using ESF AF include:Produces high titer baculovirus vector yieldsCompatible with all OET’s flashBAC™ technology but also other BEV platformsComplete, ready-to-use – no additional reagents requiredIdeal for both small and large scale manufacturing of insect cellsAlready existing cell cultures can be easily adapted**Please be aware that the standard lead time for this product is 1-3 weeks.', 'ESF Animal Free (AF) MSDS': 'https://oetltd.com/wp-content/uploads/2015/10/ESF-921-Animal-Free-AF-MSDS.pdf', 'ESF Animal Free (AF) Certificate of Origin': 'https://oetltd.com/wp-content/uploads/2015/10/ESF-Animal-Free-AF-Media-Certificate-of-Origin.pdf'}\n",
      "*****************************\n",
      "process 33 completed\n",
      "{'SKU': '500403', 'Price': '460', 'Quantity': '1L, 5 x 1L, 10 x 1L, 3 x 1L\\n', 'URL': 'https://oetltd.com/product/esf-af/', 'Category': ' Expression Systems Insect Cell Culture Media', 'Tags': ' insect cell media, insect culture media, insect growth media, insect media', 'Title': 'ESF AF (Animal Free)', 'Image_1': 'https://oetltd.com/wp-content/uploads/2015/10/ESF-AF.png', 'Description': 'Expression Systems LLC ESF AF (Animal Free) (cat# 500400-500404) is an animal origin-free formulation designed for excellent cell growth of a wide range of insect cells including Spodoptera frugiperda (Sf9, Sf21),\\xa0Trichoplusia ni (T.ni or Hi5) and\\xa0Drosophila\\xa0S2.\\xa0ESF AF enables maximum expression for applications such as production of sub-unit vaccines, virus-like particles and gene therapy vectors. It is the logical choice for further manufacturing under cGMP/FDA regulatory compliance.Benefits of using ESF AF include:Produces high titer baculovirus vector yieldsCompatible with all OET’s flashBAC™ technology but also other BEV platformsComplete, ready-to-use – no additional reagents requiredIdeal for both small and large scale manufacturing of insect cellsAlready existing cell cultures can be easily adapted**Please be aware that the standard lead time for this product is 1-3 weeks.', 'ESF Animal Free (AF) MSDS': 'https://oetltd.com/wp-content/uploads/2015/10/ESF-921-Animal-Free-AF-MSDS.pdf', 'ESF Animal Free (AF) Certificate of Origin': 'https://oetltd.com/wp-content/uploads/2015/10/ESF-Animal-Free-AF-Media-Certificate-of-Origin.pdf'}\n",
      "*****************************\n",
      "process 33 completed\n"
     ]
    },
    {
     "name": "stdout",
     "output_type": "stream",
     "text": [
      "{'SKU': '500311', 'Price': '£85.00', 'Quantity': 1, 'URL': 'https://oetltd.com/product/esf-921-delta-series-all-amino-acid-deficient/', 'Category': ' Expression Systems Insect Cell Culture Media', 'Tags': ' insect cell media, insect culture media, insect growth media, insect media', 'Title': 'ESF 921 Delta Series All Amino Acid Deficient (1L)', 'Image_1': 'https://oetltd.com/wp-content/uploads/2015/09/ESF-921-Delta-Series.png', 'Description': 'Expression Systems LLC ESF 921 Delta Series All Amino Acid Deficient (cat# 500311) insect cell culture media is based on the popular ESF 921™ medium which provides excellent growth for a wide variety of insect cells. The amino acid deficient media allows the addition of isotopically-labelled amino acids for the analysis of protein structure and dynamics. This item comes with the option for the inclusion or PYE (polished yeast extract) or modified-low PYE.\\xa0 The modified-low PYE has less hydrolysate which can help to reduce unincorporated amino acids.Benefits of using ESF 921 Delta Series All Amino Acid Deficient include:Produces high titer baculovirus vector yieldsCompatible with all OET’s flashBAC™ technology but also other BEV platformsComplete, ready-to-use – no additional reagents requiredIdeal for both small and large scale manufacturing of insect cells**Please be aware that the standard lead time for this product is 1-3 weeks.', 'ESF 921 All Amino Acid Deficient MSDS': 'https://oetltd.com/wp-content/uploads/2015/09/ESF-921-All-Amino-Acid-Deficient-MSDS-1.pdf', 'ESF 921 All Amino Acid Deficient Certificate of Origin': 'https://oetltd.com/wp-content/uploads/2015/09/ESF-921-All-Amino-Acid-Deficient-Media-Certificate-of-Origin.pdf'}\n",
      "*****************************\n",
      "process 35 completed\n",
      "{'SKU': '500307', 'Price': '£50.00', 'Quantity': 1, 'URL': 'https://oetltd.com/product/production-boost-additive/', 'Category': ' Expression Systems Insect Cell Culture Media', 'Title': 'Production Boost Additive (100ml)', 'Image_1': 'https://oetltd.com/wp-content/uploads/2015/09/Production-Boost-Additive.png', 'Image_2': 'https://oetltd.com/wp-content/uploads/2015/09/Production-Boost-Additive-Graph-100x100.png', 'Description': 'Expression Systems LLC Production Boost Additive (cat# 500307) is a nutrient boost designed to increase protein expression by supporting the increased needs of insect cells infected by recombinant baculovirus. Production Boost Additive is a serum-free, animal-free formulation that works to extend the late and very-late expression period of production by maintaining high culture viability. The reagent works seamlessly with ESF 921™ and ESF AF insect cell culture media and is suitable for a wide range of insect cells including Spodoptera frugiperda (Sf9, Sf21),\\xa0Trichoplusia ni (T.ni or Hi5) and\\xa0Drosophila\\xa0S2.**Please be aware that the standard lead time for this product is 1-3 weeks.', 'Production Boost Additive MSDS': 'https://oetltd.com/wp-content/uploads/2015/09/Production-Boost-Additive-MSDS-1.pdf', 'Production Boost Additive Certificate of Origin': 'https://oetltd.com/wp-content/uploads/2015/09/Production-Boost-Additive-Certificate-of-Origin.pdf'}\n",
      "*****************************\n",
      "process 36 completed\n",
      "{'SKU': '500310', 'Price': '£75.00', 'Quantity': 1, 'URL': 'https://oetltd.com/product/esf-921-delta-series-methionine-deficient/', 'Category': ' Expression Systems Insect Cell Culture Media', 'Tags': ' insect cell media, insect culture media, insect growth media, insect media', 'Title': 'ESF 921 Delta Series Methionine Deficient (1L)', 'Image_1': 'https://oetltd.com/wp-content/uploads/2015/09/ESF-921-Delta-Series.png', 'Description': 'Expression Systems LLC ESF 921 Delta Series Methionine Deficient (cat# 500310) insect cell culture media is based on the popular ESF 921™ medium which provides excellent growth for a wide variety of insect cells. The methionine deficient media allows the addition of methionine amino acids to target proteins for observing protein structure and dynamics. Methionine incorporation with this medium can range from 70-100%.Benefits of using ESF 921 Delta Series Methionine Deficient include:Produces high titer baculovirus vector yieldsCompatible with all OET’s\\xa0flashBAC™ technology but also other BEV platformsComplete, ready-to-use – no additional reagents requiredIdeal for both small and large scale manufacturing of insect cells**Please be aware that the standard lead time for this product is 1-3 weeks.', 'ESF 921 Methionine Deficient MSDS': 'https://oetltd.com/wp-content/uploads/2015/09/ESF-921-Methionine-Deficient-MSDS-1.pdf', 'ESF 921 Methionine Deficient Certificate of Origin': 'https://oetltd.com/wp-content/uploads/2015/09/ESF-921-Methionine-Deficient-Media-Certificate-of-Origin.pdf'}\n",
      "*****************************\n",
      "process 37 completed\n",
      "{'SKU': '500300', 'Price': '55', 'Quantity': '1L, 5 x 1L, 10 x 1L, 3 x 1L\\n', 'URL': 'https://oetltd.com/product/esf-921/', 'Category': ' Expression Systems Insect Cell Culture Media', 'Tags': ' insect cell media, insect culture media, insect growth media, insect media', 'Title': 'ESF 921 Insect Cell Media', 'Image_1': 'https://oetltd.com/wp-content/uploads/2015/06/ESF-921.png', 'Image_2': 'https://oetltd.com/wp-content/uploads/2015/06/ESF-921-Growth-Graph-100x100.png', 'Description': 'Expression Systems LLC ESF 921 ™ Insect Cell Culture Media (cat# 500300-500305) is designed for maximum virus and protein expression. This serum-free, protein-free insect cell culture medium provides excellent cell growth for a wide range of insect cells including Spodoptera frugiperda (Sf9, Sf21), Trichoplusia ni (T.ni or Hi5) and Drosophila S2. ESF 921 ™\\xa0Insect Cell Culture Medium enables maximum expression for applications such as gene therapy drug substance, virus-like particles, virus vectors and proteins of interest.Benefits of using ESF 921™ include:Produces high titre baculovirus vector yieldsCompatible with all OET’s flashBAC™ technology but also other BEV platformsComplete, ready-to-use – no additional reagents requiredIdeal for both small and large scale manufacturing of insect cellsAlready existing cell cultures can be easily adapted\\xa0', 'ESF 921 MSDS': 'https://oetltd.com/wp-content/uploads/2015/06/ESF-921-MSDS-1.pdf', 'ESF 921 Certificate of Origin': 'https://oetltd.com/wp-content/uploads/2015/09/ESF-921-Media-Certificate-of-Origin.pdf'}\n",
      "*****************************\n",
      "process 38 completed\n",
      "{'SKU': '500301', 'Price': '159', 'Quantity': '1L, 5 x 1L, 10 x 1L, 3 x 1L\\n', 'URL': 'https://oetltd.com/product/esf-921/', 'Category': ' Expression Systems Insect Cell Culture Media', 'Tags': ' insect cell media, insect culture media, insect growth media, insect media', 'Title': 'ESF 921 Insect Cell Media', 'Image_1': 'https://oetltd.com/wp-content/uploads/2015/06/ESF-921.png', 'Image_2': 'https://oetltd.com/wp-content/uploads/2015/06/ESF-921-Growth-Graph-100x100.png', 'Description': 'Expression Systems LLC ESF 921 ™ Insect Cell Culture Media (cat# 500300-500305) is designed for maximum virus and protein expression. This serum-free, protein-free insect cell culture medium provides excellent cell growth for a wide range of insect cells including Spodoptera frugiperda (Sf9, Sf21), Trichoplusia ni (T.ni or Hi5) and Drosophila S2. ESF 921 ™\\xa0Insect Cell Culture Medium enables maximum expression for applications such as gene therapy drug substance, virus-like particles, virus vectors and proteins of interest.Benefits of using ESF 921™ include:Produces high titre baculovirus vector yieldsCompatible with all OET’s flashBAC™ technology but also other BEV platformsComplete, ready-to-use – no additional reagents requiredIdeal for both small and large scale manufacturing of insect cellsAlready existing cell cultures can be easily adapted\\xa0', 'ESF 921 MSDS': 'https://oetltd.com/wp-content/uploads/2015/06/ESF-921-MSDS-1.pdf', 'ESF 921 Certificate of Origin': 'https://oetltd.com/wp-content/uploads/2015/09/ESF-921-Media-Certificate-of-Origin.pdf'}\n",
      "*****************************\n",
      "process 38 completed\n",
      "{'SKU': '500302', 'Price': '250', 'Quantity': '1L, 5 x 1L, 10 x 1L, 3 x 1L\\n', 'URL': 'https://oetltd.com/product/esf-921/', 'Category': ' Expression Systems Insect Cell Culture Media', 'Tags': ' insect cell media, insect culture media, insect growth media, insect media', 'Title': 'ESF 921 Insect Cell Media', 'Image_1': 'https://oetltd.com/wp-content/uploads/2015/06/ESF-921.png', 'Image_2': 'https://oetltd.com/wp-content/uploads/2015/06/ESF-921-Growth-Graph-100x100.png', 'Description': 'Expression Systems LLC ESF 921 ™ Insect Cell Culture Media (cat# 500300-500305) is designed for maximum virus and protein expression. This serum-free, protein-free insect cell culture medium provides excellent cell growth for a wide range of insect cells including Spodoptera frugiperda (Sf9, Sf21), Trichoplusia ni (T.ni or Hi5) and Drosophila S2. ESF 921 ™\\xa0Insect Cell Culture Medium enables maximum expression for applications such as gene therapy drug substance, virus-like particles, virus vectors and proteins of interest.Benefits of using ESF 921™ include:Produces high titre baculovirus vector yieldsCompatible with all OET’s flashBAC™ technology but also other BEV platformsComplete, ready-to-use – no additional reagents requiredIdeal for both small and large scale manufacturing of insect cellsAlready existing cell cultures can be easily adapted\\xa0', 'ESF 921 MSDS': 'https://oetltd.com/wp-content/uploads/2015/06/ESF-921-MSDS-1.pdf', 'ESF 921 Certificate of Origin': 'https://oetltd.com/wp-content/uploads/2015/09/ESF-921-Media-Certificate-of-Origin.pdf'}\n",
      "*****************************\n",
      "process 38 completed\n",
      "{'SKU': '500304', 'Price': '475', 'Quantity': '1L, 5 x 1L, 10 x 1L, 3 x 1L\\n', 'URL': 'https://oetltd.com/product/esf-921/', 'Category': ' Expression Systems Insect Cell Culture Media', 'Tags': ' insect cell media, insect culture media, insect growth media, insect media', 'Title': 'ESF 921 Insect Cell Media', 'Image_1': 'https://oetltd.com/wp-content/uploads/2015/06/ESF-921.png', 'Image_2': 'https://oetltd.com/wp-content/uploads/2015/06/ESF-921-Growth-Graph-100x100.png', 'Description': 'Expression Systems LLC ESF 921 ™ Insect Cell Culture Media (cat# 500300-500305) is designed for maximum virus and protein expression. This serum-free, protein-free insect cell culture medium provides excellent cell growth for a wide range of insect cells including Spodoptera frugiperda (Sf9, Sf21), Trichoplusia ni (T.ni or Hi5) and Drosophila S2. ESF 921 ™\\xa0Insect Cell Culture Medium enables maximum expression for applications such as gene therapy drug substance, virus-like particles, virus vectors and proteins of interest.Benefits of using ESF 921™ include:Produces high titre baculovirus vector yieldsCompatible with all OET’s flashBAC™ technology but also other BEV platformsComplete, ready-to-use – no additional reagents requiredIdeal for both small and large scale manufacturing of insect cellsAlready existing cell cultures can be easily adapted\\xa0', 'ESF 921 MSDS': 'https://oetltd.com/wp-content/uploads/2015/06/ESF-921-MSDS-1.pdf', 'ESF 921 Certificate of Origin': 'https://oetltd.com/wp-content/uploads/2015/09/ESF-921-Media-Certificate-of-Origin.pdf'}\n",
      "*****************************\n",
      "process 38 completed\n"
     ]
    },
    {
     "name": "stdout",
     "output_type": "stream",
     "text": [
      "{'SKU': '600105', 'Price': '£195.00', 'Quantity': 1, 'URL': 'https://oetltd.com/product/sf21-cells/', 'Category': ' Insect Cells', 'Title': 'Sf21 Cells', 'Image_1': 'https://oetltd.com/wp-content/uploads/2015/07/Sf21-Cells.jpg', 'Description': 'Sf21 insect cells (IPLB-Sf21-AE) (cat# 600105) are derived from pupal ovarian tissues of Spodoptera frugiperda (Fall armyworm). The Sf21 cell line is a suitable host for transient or stable expression of recombinant proteins using baculovirus expression vectors, propagation of baculovirus stocks, and plaque assays to accurately determine AcMNPV virus titre. They are also ideal for monitoring cytopathic effects and are more tolerant to sub-optimal growth conditions. The insect cells are adapted to growth in serum-containing medium such as TC-100 supplemented with 10% FBS. They can easily be cultured as monolayer cultures in T-flasks or in stirred culture flasks.The cells are prepared from low passage cells (<30 passages) and supplied in a cryogenic vial containing 1 x 107\\xa0cells. Freezing medium is comprised of 50% fresh serum supplemented medium, 50% conditioned serum supplemented medium and Dimethyl Sulfoxide (DMSO) to a final concentration of 10%.Please note this product ships on dry ice so additional shipping charges may apply.', 'Sf21 Cells MSDS': 'https://oetltd.com/wp-content/uploads/2015/07/Sf21-Cells-MSDS.pdf', 'OET Insect Cell Culture User Guide': 'https://oetltd.com/wp-content/uploads/2019/01/Insect-Cell-Culture-Guide-2020-21.pdf', 'Sf21 Insect Cell User Guide': 'https://oetltd.com/wp-content/uploads/2015/07/Sf21-Insect-Cell-User-Guide.pdf'}\n",
      "*****************************\n",
      "process 39 completed\n",
      "{'SKU': '600104', 'Price': '£609.00', 'Quantity': 1, 'URL': 'https://oetltd.com/product/super-sf9-3-cells/', 'Category': ' Insect Cells', 'Title': 'superSf9-3 Cells', 'Image_1': 'https://oetltd.com/wp-content/uploads/2015/02/Super-Sf9-3-Vials.jpg', 'Description': 'superSf9-3 insect cells (cat# 600104) are derived from the Spodoptera frugiperda (Sf9) cell line and are engineered for the enhanced expression of most recombinant proteins. The original Sf9 cell line has become the primary choice for baculovirus expression systems, being used worldwide for the production of recombinant viruses and expresion of proteins. superSf9-3 cells are able to offer a high general expression of a variety of recombinant proteins. This can help to increase the yield of recombinant proteins with mixed characteristics but also those with unknown toxicity and stability. superSf9-3 cells are adapted to serum free suspension culture in Sf-900™ II media but are capable of conforming to other suitable media types. The insect cells can easily be cultured as monolayer cultures in T-flasks, suspension cultures in shake flasks, or scaled up for use in bioreactors.The cells are prepared from low passage cells (<20 passages in Sf-900™ II medium) and supplied in a cryogenic vial containing 1×107\\xa0cells. Freezing medium is comprised of 50% fresh serum free medium, 50% conditioned serum free medium and Dimethyl Sulfoxide (DMSO) to a final concentration of 7.5%.Please note this product ships on dry ice so additional shipping charges may apply.', 'superSf9 Cells MSDS': 'https://oetltd.com/wp-content/uploads/2015/02/Super-Sf9-Cells-1-3-MSDS.pdf', 'OET Insect Cell Culture Manual': 'https://oetltd.com/wp-content/uploads/2019/01/Insect-Cell-Culture-Guide-2020-21.pdf', 'superSf9 Insect Cell User Guide': 'https://oetltd.com/wp-content/uploads/2015/02/superSf9-Insect-Cell-User-Guide.pdf'}\n",
      "*****************************\n",
      "process 40 completed\n",
      "{'SKU': '600103', 'Price': '£609.00', 'Quantity': 1, 'URL': 'https://oetltd.com/product/super-sf9-2-cells/', 'Category': ' Insect Cells', 'Title': 'superSf9-2 Cells', 'Image_1': 'https://oetltd.com/wp-content/uploads/2015/02/Super-Sf9-2-Vials.jpg', 'Description': 'superSf9-2 insect cells (cat# 600103) are derived from the Spodoptera frugiperda (Sf9) cell line and are engineered for the enhanced expression of highly unstable or toxic proteins. The original Sf9 cell line has become the primary choice for baculovirus expression systems, being used worldwide for the production of recombinant viruses and expresion of proteins. superSf9-2 cells are able to offer a very high expression level over a short period of time following baculovirus infection. This can help to increase the yield of proteins that are more prone to degredation or those that can become toxic to cell health and viability. superSf9-2 cells are adapted to serum free suspension culture in Sf-900™ II media but are capable of conforming to other suitable media types. The insect cells can easily be cultured as monolayer cultures in T-flasks, suspension cultures in shake flasks, or scaled up for use in bioreactors.The cells are prepared from low passage cells (<20 passages in Sf-900™ II medium) and supplied in a cryogenic vial containing 1×107 cells. Freezing medium is comprised of 50% fresh serum free medium, 50% conditioned serum free medium and Dimethyl Sulfoxide (DMSO) to a final concentration of 7.5%.Please note this product ships on dry ice so additional shipping charges may apply.', 'superSf9 Cells MSDS': 'https://oetltd.com/wp-content/uploads/2015/02/Super-Sf9-Cells-1-3-MSDS.pdf', 'OET Insect Cell Culture Manual': 'https://oetltd.com/wp-content/uploads/2019/01/Insect-Cell-Culture-Guide-2020-21.pdf', 'superSf9 Insect Cell User Guide': 'https://oetltd.com/wp-content/uploads/2015/02/superSf9-Insect-Cell-User-Guide.pdf'}\n",
      "*****************************\n",
      "process 41 completed\n",
      "{'SKU': '600102', 'Price': '£609.00', 'Quantity': 1, 'URL': 'https://oetltd.com/product/super-sf9-1-cells/', 'Category': ' Insect Cells', 'Title': 'superSf9-1 Cells', 'Image_1': 'https://oetltd.com/wp-content/uploads/2015/02/Super-Sf9-1-Vials.jpg', 'Description': 'superSf9-1 insect cells (cat# 600102) are derived from the Spodoptera frugiperda (Sf9) cell line and are engineered for the enhanced expression of highly stable intracellular and secreted proteins. The original Sf9 cell line has become the primary choice for baculovirus expression systems, being used worldwide for the production of recombinant viruses and expresion of proteins. superSf9-1 cells are able to offer a prolonged expression time following baculovirus infection. This can help to increase the yield of more stable intracellular, membrane and secreted proteins by up to 15-fold, provided that they are not subject to degredation. superSf9-1 cells are adapted to serum free suspension culture in Sf-900™ II media but are capable of conforming to other suitable media types. The insect cells can easily be cultured as monolayer cultures in T-flasks, suspension cultures in shake flasks, or scaled up for use in bioreactors.The cells are prepared from low passage cells (<20 passages in Sf-900™ II medium) and supplied in a cryogenic vial containing 1×107 cells. Freezing medium is comprised of 50% fresh serum free medium, 50% conditioned serum free medium and Dimethyl Sulfoxide (DMSO) to a final concentration of 7.5%.Please note this product ships on dry ice so additional shipping charges may apply.', 'superSf9 Cells MSDS': 'https://oetltd.com/wp-content/uploads/2015/02/Super-Sf9-Cells-1-3-MSDS.pdf', 'OET Insect Cell Culture Manual': 'https://oetltd.com/wp-content/uploads/2019/01/Insect-Cell-Culture-Guide-2020-21.pdf', 'superSf9 Insect Cell User Guide': 'https://oetltd.com/wp-content/uploads/2015/02/superSf9-Insect-Cell-User-Guide.pdf'}\n",
      "*****************************\n",
      "process 42 completed\n",
      "{'SKU': '600100', 'Price': '£195.00', 'Quantity': 1, 'URL': 'https://oetltd.com/product/sf9-cells/', 'Category': ' Insect Cells', 'Title': 'Sf9 Cells', 'Image_1': 'https://oetltd.com/wp-content/uploads/2015/02/Sf9-Vials.jpg', 'Description': 'Sf9 insect cells (cat# 600100) have become the workhorse of the baculovirus expression system, being used worldwide for the production of recombinant viruses and expression proteins. Sf9 cells are a clonal isolate from Spodoptera frugiperda (Fall armyworm) IPLB-Sf21-AE cells. The Sf9 cells are adapted to serum free suspension culture in ESF 921™ media but are capable of conforming to other suitable media types. The cells can be used for transient or stable expression of recombinant proteins; as monolayers for transfection and production of recombinant baculovirus; or for the propagation of baculovirus stocks. Sf9 insect cells can easily be cultured as monolayer cultures in T-flasks, suspension cultures in shake flasks, or scaled up for use in bioreactors.The cells are prepared from low passage cells (<30 passages in ESF 921™ medium) and supplied in a cryogenic vial containing 1×107 cells. Freezing medium is comprised of 50% fresh serum free medium, 50% conditioned serum free medium and Dimethyl Sulfoxide (DMSO) to a final concentration of 10%.Please note this product ships on dry ice so additional shipping charges may apply.', 'Sf9 Cells MSDS': 'https://oetltd.com/wp-content/uploads/2015/02/Sf9-Cells-MSDS.pdf', 'OET Insect Cell Culture Manual': 'https://oetltd.com/wp-content/uploads/2019/01/Insect-Cell-Culture-Guide-2020-21.pdf', 'Sf9 Cells User Guide': 'https://oetltd.com/wp-content/uploads/2015/02/Sf9-Insect-Cell-User-Guide.pdf'}\n",
      "*****************************\n",
      "process 43 completed\n"
     ]
    }
   ],
   "source": [
    "empty=[]\n",
    "for num,urlz in enumerate(urls):\n",
    "    \n",
    "    #print(urlz)\n",
    "    #urlz=\"https://oetltd.com/product/poet-sequencing-primers/\"\n",
    "    source=requests.get(urlz).text\n",
    "    soup=BeautifulSoup(source,'lxml')\n",
    "    pz=pro_price_cell(soup)\n",
    "    disc=pro_desc(soup)\n",
    "    tab=pro_tab(soup)\n",
    "    imgg=pro_img(soup)\n",
    "    user=userguide(soup)\n",
    "    cat=cat_tit(soup)\n",
    "    for i in pz:\n",
    "        i.update({\"URL\":urlz})\n",
    "        i.update(cat)\n",
    "        if len(tab)>0:\n",
    "            i.update(tab)\n",
    "        i.update(imgg)\n",
    "        i.update(disc)\n",
    "        i.update(user)\n",
    "        print(i)\n",
    "        empty.append(i)\n",
    "        print(\"*****************************\")\n",
    "\n",
    "        print(\"process \"+str(num)+\" completed\")\n",
    "\n",
    "    \n",
    "        \n",
    "\n",
    "    \n",
    "\n",
    "    "
   ]
  },
  {
   "cell_type": "code",
   "execution_count": 234,
   "metadata": {},
   "outputs": [
    {
     "data": {
      "text/plain": [
       "64"
      ]
     },
     "execution_count": 234,
     "metadata": {},
     "output_type": "execute_result"
    }
   ],
   "source": [
    "new=[]\n",
    "for i in empty:\n",
    "    new.append(i)\n",
    "len(new)    "
   ]
  },
  {
   "cell_type": "code",
   "execution_count": 235,
   "metadata": {},
   "outputs": [
    {
     "data": {
      "text/plain": [
       "Index(['SKU', 'Price', 'Quantity', 'URL', 'Category', 'Tags', 'Title',\n",
       "       'Image_1', 'Description', 'ESF Animal Free (AF) MSDS',\n",
       "       'ESF Animal Free (AF) Certificate of Origin',\n",
       "       'ESF 921 All Amino Acid Deficient MSDS',\n",
       "       'ESF 921 All Amino Acid Deficient Certificate of Origin', 'Image_2',\n",
       "       'Production Boost Additive MSDS',\n",
       "       'Production Boost Additive Certificate of Origin',\n",
       "       'ESF 921 Methionine Deficient MSDS',\n",
       "       'ESF 921 Methionine Deficient Certificate of Origin', 'ESF 921 MSDS',\n",
       "       'ESF 921 Certificate of Origin', 'Sf21 Cells MSDS',\n",
       "       'OET Insect Cell Culture User Guide', 'Sf21 Insect Cell User Guide',\n",
       "       'superSf9 Cells MSDS', 'OET Insect Cell Culture Manual',\n",
       "       'superSf9 Insect Cell User Guide', 'Sf9 Cells MSDS',\n",
       "       'Sf9 Cells User Guide'],\n",
       "      dtype='object')"
      ]
     },
     "execution_count": 235,
     "metadata": {},
     "output_type": "execute_result"
    }
   ],
   "source": [
    "df=pd.DataFrame(new)\n",
    "df.columns"
   ]
  },
  {
   "cell_type": "code",
   "execution_count": 236,
   "metadata": {},
   "outputs": [],
   "source": [
    "df.to_excel(\"03302020_Insect Cell Culture.xlsx\",header=True)"
   ]
  },
  {
   "cell_type": "code",
   "execution_count": null,
   "metadata": {},
   "outputs": [],
   "source": []
  }
 ],
 "metadata": {
  "kernelspec": {
   "display_name": "Python 3",
   "language": "python",
   "name": "python3"
  },
  "language_info": {
   "codemirror_mode": {
    "name": "ipython",
    "version": 3
   },
   "file_extension": ".py",
   "mimetype": "text/x-python",
   "name": "python",
   "nbconvert_exporter": "python",
   "pygments_lexer": "ipython3",
   "version": "3.7.4"
  }
 },
 "nbformat": 4,
 "nbformat_minor": 2
}

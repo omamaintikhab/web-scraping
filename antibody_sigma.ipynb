{
 "cells": [
  {
   "cell_type": "code",
   "execution_count": 1,
   "metadata": {},
   "outputs": [],
   "source": [
    "from bs4 import BeautifulSoup\n",
    "import requests\n",
    "import pandas as pd\n",
    "from pandas import ExcelWriter\n",
    "from pandas import ExcelFile\n",
    "from selenium import webdriver\n"
   ]
  },
  {
   "cell_type": "code",
   "execution_count": 2,
   "metadata": {},
   "outputs": [
    {
     "data": {
      "text/html": [
       "<div>\n",
       "<style scoped>\n",
       "    .dataframe tbody tr th:only-of-type {\n",
       "        vertical-align: middle;\n",
       "    }\n",
       "\n",
       "    .dataframe tbody tr th {\n",
       "        vertical-align: top;\n",
       "    }\n",
       "\n",
       "    .dataframe thead th {\n",
       "        text-align: right;\n",
       "    }\n",
       "</style>\n",
       "<table border=\"1\" class=\"dataframe\">\n",
       "  <thead>\n",
       "    <tr style=\"text-align: right;\">\n",
       "      <th></th>\n",
       "      <th>Articlenumber manufacturer</th>\n",
       "      <th>Article name</th>\n",
       "      <th>Name Manufacturer</th>\n",
       "    </tr>\n",
       "  </thead>\n",
       "  <tbody>\n",
       "    <tr>\n",
       "      <td>0</td>\n",
       "      <td>02295</td>\n",
       "      <td>ANTI-RABBIT-IGG - MEGA 485 ANTIBODY PROD</td>\n",
       "      <td>SIGMA-ALDRICH</td>\n",
       "    </tr>\n",
       "    <tr>\n",
       "      <td>1</td>\n",
       "      <td>04-1469</td>\n",
       "      <td>ANTI-HNRNP A1 ANTIBODY, CLONE 9H10</td>\n",
       "      <td>SIGMA-ALDRICH</td>\n",
       "    </tr>\n",
       "    <tr>\n",
       "      <td>2</td>\n",
       "      <td>04-1469</td>\n",
       "      <td>ANTI-HNRNP A1 ANTIBODY, CLONE 9H10</td>\n",
       "      <td>SIGMA-ALDRICH</td>\n",
       "    </tr>\n",
       "    <tr>\n",
       "      <td>3</td>\n",
       "      <td>04-147</td>\n",
       "      <td>ANTI-ASC ANTIBODY, CLONE 2EI-7</td>\n",
       "      <td>SIGMA-ALDRICH</td>\n",
       "    </tr>\n",
       "    <tr>\n",
       "      <td>4</td>\n",
       "      <td>04-1624</td>\n",
       "      <td>ANTI-CENTRIN ANTIBODY, CLONE 20H5</td>\n",
       "      <td>SIGMA-ALDRICH</td>\n",
       "    </tr>\n",
       "    <tr>\n",
       "      <td>...</td>\n",
       "      <td>...</td>\n",
       "      <td>...</td>\n",
       "      <td>...</td>\n",
       "    </tr>\n",
       "    <tr>\n",
       "      <td>7566</td>\n",
       "      <td>U3510</td>\n",
       "      <td>UNIVERSAL ANTIBODY DILUTION BU</td>\n",
       "      <td>SIGMA-ALDRICH</td>\n",
       "    </tr>\n",
       "    <tr>\n",
       "      <td>7567</td>\n",
       "      <td>U3635</td>\n",
       "      <td>UNIVERSAL ANTIBODY DILUTION BU</td>\n",
       "      <td>SIGMA-ALDRICH</td>\n",
       "    </tr>\n",
       "    <tr>\n",
       "      <td>7568</td>\n",
       "      <td>U4758</td>\n",
       "      <td>MONOCLONAL ANTI-U2AF65 ANTIBODY PRODen</td>\n",
       "      <td>SIGMA-ALDRICH</td>\n",
       "    </tr>\n",
       "    <tr>\n",
       "      <td>7569</td>\n",
       "      <td>U4758</td>\n",
       "      <td>MONOCLONAL ANTI-U2AF65 ANTIBODY PRODen</td>\n",
       "      <td>SIGMA-ALDRICH</td>\n",
       "    </tr>\n",
       "    <tr>\n",
       "      <td>7570</td>\n",
       "      <td>Y0771</td>\n",
       "      <td>ANTI-PHOSPHO-YAP1 (PTYR357) ANTIBODY, MO</td>\n",
       "      <td>SIGMA-ALDRICH</td>\n",
       "    </tr>\n",
       "  </tbody>\n",
       "</table>\n",
       "<p>7571 rows × 3 columns</p>\n",
       "</div>"
      ],
      "text/plain": [
       "     Articlenumber manufacturer                              Article name  \\\n",
       "0                         02295  ANTI-RABBIT-IGG - MEGA 485 ANTIBODY PROD   \n",
       "1                       04-1469        ANTI-HNRNP A1 ANTIBODY, CLONE 9H10   \n",
       "2                       04-1469        ANTI-HNRNP A1 ANTIBODY, CLONE 9H10   \n",
       "3                        04-147            ANTI-ASC ANTIBODY, CLONE 2EI-7   \n",
       "4                       04-1624         ANTI-CENTRIN ANTIBODY, CLONE 20H5   \n",
       "...                         ...                                       ...   \n",
       "7566                      U3510            UNIVERSAL ANTIBODY DILUTION BU   \n",
       "7567                      U3635            UNIVERSAL ANTIBODY DILUTION BU   \n",
       "7568                      U4758    MONOCLONAL ANTI-U2AF65 ANTIBODY PRODen   \n",
       "7569                      U4758    MONOCLONAL ANTI-U2AF65 ANTIBODY PRODen   \n",
       "7570                      Y0771  ANTI-PHOSPHO-YAP1 (PTYR357) ANTIBODY, MO   \n",
       "\n",
       "     Name Manufacturer  \n",
       "0        SIGMA-ALDRICH  \n",
       "1        SIGMA-ALDRICH  \n",
       "2        SIGMA-ALDRICH  \n",
       "3        SIGMA-ALDRICH  \n",
       "4        SIGMA-ALDRICH  \n",
       "...                ...  \n",
       "7566     SIGMA-ALDRICH  \n",
       "7567     SIGMA-ALDRICH  \n",
       "7568     SIGMA-ALDRICH  \n",
       "7569     SIGMA-ALDRICH  \n",
       "7570     SIGMA-ALDRICH  \n",
       "\n",
       "[7571 rows x 3 columns]"
      ]
     },
     "execution_count": 2,
     "metadata": {},
     "output_type": "execute_result"
    }
   ],
   "source": [
    "article_number=pd.read_excel('Sigma_aldrich_antibodies.xlsx')\n",
    "article_number                             "
   ]
  },
  {
   "cell_type": "code",
   "execution_count": 75,
   "metadata": {},
   "outputs": [
    {
     "name": "stdout",
     "output_type": "stream",
     "text": [
      "2 7\n"
     ]
    }
   ],
   "source": [
    "\n",
    "s=\"https://www.sigmaaldrich.com/catalog/search?term=04-290&interface=All&N=0&mode=match%20partialmax&lang=en&region=PK&focus=product\"\n",
    "#$source=requests.get(s).text\n",
    "#soup=BeautifulSoup(source,'lxml')\n",
    "#a=soup.find(\"div\",{\"class\":\"row clearfix\"})\n",
    "#a=a.find('a')\n",
    "#a['href']\n",
    "driver = webdriver.Firefox()\n",
    "driver.implicitly_wait(10)\n",
    "driver.get(s)\n",
    "link=driver.find_element_by_link_text(article_number.iloc[6][0])\n",
    "link.click()\n",
    "url=driver.current_url\n",
    "driver.get(url)\n",
    "\n",
    "row=len(driver.find_elements_by_xpath(\"//*[@id='pricingContainerMessage']/div/div/table/tbody/tr\"))\n",
    "\n",
    "columns=len(driver.find_elements_by_xpath(\"//*[@id='pricingContainerMessage']/div/div/table/tbody/tr[2]/td\"))\n",
    "print(row,columns)\n",
    "header=[]\n",
    "for i in range(4):\n",
    "    th=driver.find_element_by_xpath(\"//*[@id='pricingContainerMessage']/div/div/table/tbody/tr[1]/th[\"+str(i+1)+\"]\").text\n",
    "    header.append(th)                                 \n",
    "driver.find_elements_by_xpath(\"//*[@id='pricingContainerMessage']/div/div/table/tbody/tr[2]/td\"\n",
    "                              \n",
    "for rows in range(row):\n",
    "                              \n",
    "                              \n",
    "                              \n",
    "                              \n",
    "                              \n",
    "                              "
   ]
  },
  {
   "cell_type": "code",
   "execution_count": 76,
   "metadata": {},
   "outputs": [
    {
     "data": {
      "text/plain": [
       "['SKU-Pack Size', 'Availability', 'Pack Size', 'Price (EUR)']"
      ]
     },
     "execution_count": 76,
     "metadata": {},
     "output_type": "execute_result"
    }
   ],
   "source": [
    "header"
   ]
  },
  {
   "cell_type": "code",
   "execution_count": 82,
   "metadata": {},
   "outputs": [
    {
     "name": "stdout",
     "output_type": "stream",
     "text": [
      "2 7\n",
      "{'SKU-Pack Size': '04-290', 'Availability': 'Estimated to ship on 17.03.20', 'Pack Size': '100 μG', 'Price (EUR)': '383.00'}\n"
     ]
    }
   ],
   "source": [
    "\n",
    "s=\"https://www.sigmaaldrich.com/catalog/search?term=04-290&interface=All&N=0&mode=match%20partialmax&lang=en&region=PK&focus=product\"\n",
    "#$source=requests.get(s).text\n",
    "#soup=BeautifulSoup(source,'lxml')\n",
    "#a=soup.find(\"div\",{\"class\":\"row clearfix\"})\n",
    "#a=a.find('a')\n",
    "#a['href']\n",
    "driver = webdriver.Firefox()\n",
    "driver.implicitly_wait(10)\n",
    "driver.get(s)\n",
    "link=driver.find_element_by_link_text(article_number.iloc[6][0])\n",
    "link.click()\n",
    "url=driver.current_url\n",
    "driver.get(url)\n",
    "\n",
    "row=len(driver.find_elements_by_xpath(\"//*[@id='pricingContainerMessage']/div/div/table/tbody/tr\"))\n",
    "\n",
    "columns=len(driver.find_elements_by_xpath(\"//*[@id='pricingContainerMessage']/div/div/table/tbody/tr[2]/td\"))\n",
    "print(row,columns)\n",
    "header=[]\n",
    "for i in range(4):\n",
    "    th=driver.find_element_by_xpath(\"//*[@id='pricingContainerMessage']/div/div/table/tbody/tr[1]/th[\"+str(i+1)+\"]\").text\n",
    "    header.append(th)                                 \n",
    "empty=[]\n",
    "for rows in range(2,row+1):\n",
    "    table_info={}\n",
    "    for col in range(4):\n",
    "        table_data=driver.find_element_by_xpath(\"//*[@id='pricingContainerMessage']/div/div/table/tbody/tr[\"+str(rows)+\"]/td[\"+str(col+1)+\"]\").text\n",
    "        table_info.update({header[col]:table_data})                     \n",
    "     \n",
    "    empty.append(table_info)                          \n",
    "                              \n",
    "                              \n",
    "                              \n",
    "                              \n",
    "print(table_info)                              \n",
    "\n",
    "                              \n",
    "                              \n",
    "                              \n",
    "                              \n",
    "                              \n",
    "                              \n",
    "                              \n",
    "                              \n",
    "                              "
   ]
  },
  {
   "cell_type": "code",
   "execution_count": 3,
   "metadata": {},
   "outputs": [],
   "source": [
    "s=\"https://www.sigmaaldrich.com/catalog/search?term=04-290&interface=All&N=0&mode=match%20partialmax&lang=en&region=PK&focus=product\"\n",
    "\n",
    "driver = webdriver.Firefox()\n",
    "driver.implicitly_wait(10)\n",
    "driver.get(s)\n",
    "link=driver.find_element_by_link_text(article_number.iloc[6][0])\n",
    "link.click()\n",
    "url=driver.current_url\n",
    "driver.get(url)\n",
    "row_2=len(driver.find_elements_by_xpath(\"//*[@id='productDetailProperties']/table/tbody/tr\"))\n",
    "properties={}\n",
    "for rows_2 in range(row_2):\n",
    "    table_info={}\n",
    "    \n",
    "    td_1=driver.find_element_by_xpath(\"//*[@id='productDetailProperties']/table/tbody/tr[\"+str(rows_2+1)+\"]/td[1]\").text\n",
    "    td_2=driver.find_element_by_xpath(\"//*[@id='productDetailProperties']/table/tbody/tr[\"+str(rows_2+1)+\"]/td[2]\").text\n",
    "    print(td_1)\n",
    "    print(\"****\")\n",
    "    print(td_2)\n",
    "    print(\"______\")\n",
    "    #properties.update({td_1:td_2})\n",
    "\n",
    "\n"
   ]
  },
  {
   "cell_type": "code",
   "execution_count": 91,
   "metadata": {},
   "outputs": [
    {
     "data": {
      "text/plain": [
       "{'Related Categories': 'Alphabetical Index, Antibodies, E-EI, Primary Antibodies',\n",
       " 'clone  ': '13G8, monoclonal',\n",
       " 'biological source  ': 'mouse',\n",
       " 'application(s)  ': 'ELISA: suitable',\n",
       " ' ': 'NM_201284.1',\n",
       " 'species reactivity  ': 'human, mouse',\n",
       " 'shipped in  ': 'wet ice',\n",
       " 'isotype  ': 'IgG1',\n",
       " 'antibody product type  ': 'primary antibodies',\n",
       " 'mfr. no.  ': 'Chemicon®',\n",
       " 'NCBI accession no.  ': 'NM_005228.3',\n",
       " 'UniProt accession no.  ': 'P00533'}"
      ]
     },
     "execution_count": 91,
     "metadata": {},
     "output_type": "execute_result"
    }
   ],
   "source": [
    "properties"
   ]
  },
  {
   "cell_type": "code",
   "execution_count": 157,
   "metadata": {},
   "outputs": [
    {
     "data": {
      "text/plain": [
       "<div class=\"half\" id=\"productDescription\">\n",
       "<!--Once translation bundle is plugged in need to wrap this to use key -->\n",
       "<h3>Description</h3>\n",
       "<div class=\"descriptionContent\">\n",
       "<!-- changed H5 to H4 for 2540 -->\n",
       "<h4 class=\"first\">\n",
       "        \t\tSpecificity\n",
       "\t\t\t\t\n",
       "\t\t\t\t</h4>\n",
       "<p>\n",
       "        Recognizes C-terminus domain of EGF receptor (aa1165-1186)\n",
       "        </p>\n",
       "<h4>\n",
       "        \t\tImmunogen\n",
       "\t\t\t\t\n",
       "\t\t\t\t</h4>\n",
       "<p>\n",
       "        KLH-conjugated synthetic peptide encompassing the surrounding amino acids of the C terminus in human EGFR\n",
       "        </p>\n",
       "<h4>\n",
       "        \t\tApplication\n",
       "\t\t\t\t\n",
       "\t\t\t\t</h4>\n",
       "<p>\n",
       "        Research Category<br/>Signaling\n",
       "        </p>\n",
       "<p>\n",
       "        Research Sub Category<br/>Growth Factors &amp; Receptors\n",
       "        </p>\n",
       "<h4>\n",
       "        \t\tTarget description\n",
       "\t\t\t\t\n",
       "\t\t\t\t</h4>\n",
       "<p>\n",
       "        180 kDa\n",
       "        </p>\n",
       "<h4>\n",
       "        \t\tPhysical form\n",
       "\t\t\t\t\n",
       "\t\t\t\t</h4>\n",
       "<p>\n",
       "        100 µg of purified mouse monoclonal IgG lyophilized in PBS containing 0.09% sodium azide, PEG, and sucrose\n",
       "        </p>\n",
       "<p>\n",
       "        Format: Purified\n",
       "        </p>\n",
       "<p>\n",
       "        Subsequent thiophilic adsorption and size exclusion chromatography\n",
       "        </p>\n",
       "<h4>\n",
       "        \t\tStorage and Stability\n",
       "\t\t\t\t\n",
       "\t\t\t\t</h4>\n",
       "<p>\n",
       "        2 years at -20°C from date of shipment\n",
       "        </p>\n",
       "<h4>\n",
       "        \t\tDisclaimer\n",
       "\t\t\t\t\n",
       "\t\t\t\t</h4>\n",
       "<p>\n",
       "        Unless otherwise stated in our catalog or other company documentation accompanying the product(s), our products are intended for research use only and are not to be used for any other purpose, which includes but is not limited to, unauthorized commercial uses, in vitro diagnostic uses, ex vivo or in vivo therapeutic uses or any type of consumption or application to humans or animals.\n",
       "        </p>\n",
       "<h4>\n",
       "        \t\tQuality\n",
       "\t\t\t\t\n",
       "\t\t\t\t</h4>\n",
       "<p>\n",
       "        Routinely evaluated by immunoblot.\n",
       "        </p>\n",
       "<h4>\n",
       "        \t\tLinkage\n",
       "\t\t\t\t\n",
       "\t\t\t\t</h4>\n",
       "<p>\n",
       "        Replaces: 04-337; 04-338\n",
       "        </p>\n",
       "<h4>\n",
       "        \t\tAnalysis Note\n",
       "\t\t\t\t\n",
       "\t\t\t\t</h4>\n",
       "<p>\n",
       "        Control<br/>Includes EGF treated Hep2G lysate as a positive control\n",
       "        </p>\n",
       "</div>\n",
       "</div>"
      ]
     },
     "execution_count": 157,
     "metadata": {},
     "output_type": "execute_result"
    }
   ],
   "source": [
    "source=requests.get(url).text\n",
    "soup=BeautifulSoup(source,'lxml')\n",
    "a=soup.find(\"div\",{\"id\":\"productDescription\"})\n",
    "#desc_head=a.findAll('h4')\n",
    "#desc_para=a.findAll('p')\n",
    "\n",
    "a\n",
    "\n",
    "\n",
    "    \n",
    "    "
   ]
  },
  {
   "cell_type": "code",
   "execution_count": 162,
   "metadata": {},
   "outputs": [
    {
     "ename": "AttributeError",
     "evalue": "'NoneType' object has no attribute 'contents'",
     "output_type": "error",
     "traceback": [
      "\u001b[1;31m---------------------------------------------------------------------------\u001b[0m",
      "\u001b[1;31mAttributeError\u001b[0m                            Traceback (most recent call last)",
      "\u001b[1;32m<ipython-input-162-bf6f4c709cea>\u001b[0m in \u001b[0;36m<module>\u001b[1;34m\u001b[0m\n\u001b[1;32m----> 1\u001b[1;33m \u001b[1;33m[\u001b[0m\u001b[0mx\u001b[0m \u001b[1;32mfor\u001b[0m \u001b[0mx\u001b[0m \u001b[1;32min\u001b[0m \u001b[0ma\u001b[0m\u001b[1;33m.\u001b[0m\u001b[0mfind_next_sibling\u001b[0m\u001b[1;33m(\u001b[0m\u001b[1;34m'h4'\u001b[0m\u001b[1;33m)\u001b[0m\u001b[1;33m.\u001b[0m\u001b[0mcontents\u001b[0m \u001b[1;32mif\u001b[0m \u001b[0mgetattr\u001b[0m\u001b[1;33m(\u001b[0m\u001b[0mx\u001b[0m\u001b[1;33m,\u001b[0m \u001b[1;34m'name'\u001b[0m\u001b[1;33m,\u001b[0m \u001b[1;32mNone\u001b[0m\u001b[1;33m)\u001b[0m \u001b[1;33m!=\u001b[0m \u001b[1;34m'<p>'\u001b[0m\u001b[1;33m]\u001b[0m\u001b[1;33m\u001b[0m\u001b[1;33m\u001b[0m\u001b[0m\n\u001b[0m",
      "\u001b[1;31mAttributeError\u001b[0m: 'NoneType' object has no attribute 'contents'"
     ]
    }
   ],
   "source": [
    "[x for x in a.find_next_sibling('h4').contents if getattr(x, 'name', None) != '<p>']"
   ]
  },
  {
   "cell_type": "code",
   "execution_count": 130,
   "metadata": {},
   "outputs": [
    {
     "data": {
      "text/plain": [
       "<p>\n",
       "        Recognizes C-terminus domain of EGF receptor (aa1165-1186)\n",
       "        </p>"
      ]
     },
     "execution_count": 130,
     "metadata": {},
     "output_type": "execute_result"
    }
   ],
   "source": [
    "a.find('h4').next_sibling.next_sibling"
   ]
  },
  {
   "cell_type": "code",
   "execution_count": 136,
   "metadata": {},
   "outputs": [
    {
     "ename": "AttributeError",
     "evalue": "'NoneType' object has no attribute 'next_sibling'",
     "output_type": "error",
     "traceback": [
      "\u001b[1;31m---------------------------------------------------------------------------\u001b[0m",
      "\u001b[1;31mAttributeError\u001b[0m                            Traceback (most recent call last)",
      "\u001b[1;32m<ipython-input-136-e201d0dd7d47>\u001b[0m in \u001b[0;36m<module>\u001b[1;34m\u001b[0m\n\u001b[0;32m      1\u001b[0m \u001b[0mt4\u001b[0m\u001b[1;33m=\u001b[0m\u001b[0ma\u001b[0m\u001b[1;33m.\u001b[0m\u001b[0mfindAll\u001b[0m\u001b[1;33m(\u001b[0m\u001b[1;34m'h4'\u001b[0m\u001b[1;33m)\u001b[0m\u001b[1;33m\u001b[0m\u001b[1;33m\u001b[0m\u001b[0m\n\u001b[0;32m      2\u001b[0m \u001b[1;32mfor\u001b[0m \u001b[0mi\u001b[0m\u001b[1;33m,\u001b[0m\u001b[0mj\u001b[0m \u001b[1;32min\u001b[0m \u001b[0menumerate\u001b[0m\u001b[1;33m(\u001b[0m\u001b[0mt4\u001b[0m\u001b[1;33m)\u001b[0m\u001b[1;33m:\u001b[0m\u001b[1;33m\u001b[0m\u001b[1;33m\u001b[0m\u001b[0m\n\u001b[1;32m----> 3\u001b[1;33m     \u001b[0mprint\u001b[0m\u001b[1;33m(\u001b[0m\u001b[0ma\u001b[0m\u001b[1;33m.\u001b[0m\u001b[0mj\u001b[0m\u001b[1;33m.\u001b[0m\u001b[0mnext_sibling\u001b[0m\u001b[1;33m)\u001b[0m\u001b[1;33m\u001b[0m\u001b[1;33m\u001b[0m\u001b[0m\n\u001b[0m\u001b[0;32m      4\u001b[0m \u001b[1;33m\u001b[0m\u001b[0m\n",
      "\u001b[1;31mAttributeError\u001b[0m: 'NoneType' object has no attribute 'next_sibling'"
     ]
    }
   ],
   "source": [
    "a.findAll\n",
    "quote2 = quote1.find_next_siblings('blockquote')\n",
    "    "
   ]
  },
  {
   "cell_type": "code",
   "execution_count": null,
   "metadata": {},
   "outputs": [],
   "source": []
  }
 ],
 "metadata": {
  "kernelspec": {
   "display_name": "Python 3",
   "language": "python",
   "name": "python3"
  },
  "language_info": {
   "codemirror_mode": {
    "name": "ipython",
    "version": 3
   },
   "file_extension": ".py",
   "mimetype": "text/x-python",
   "name": "python",
   "nbconvert_exporter": "python",
   "pygments_lexer": "ipython3",
   "version": "3.7.4"
  }
 },
 "nbformat": 4,
 "nbformat_minor": 2
}
